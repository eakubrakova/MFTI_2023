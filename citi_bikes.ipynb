{
  "nbformat": 4,
  "nbformat_minor": 0,
  "metadata": {
    "colab": {
      "provenance": [],
      "authorship_tag": "ABX9TyMCuCIxsHIz8qOgqPZHDj6I",
      "include_colab_link": true
    },
    "kernelspec": {
      "name": "python3",
      "display_name": "Python 3"
    },
    "language_info": {
      "name": "python"
    }
  },
  "cells": [
    {
      "cell_type": "markdown",
      "metadata": {
        "id": "view-in-github",
        "colab_type": "text"
      },
      "source": [
        "<a href=\"https://colab.research.google.com/github/eakubrakova/MFTI_2023/blob/main/citi_bikes.ipynb\" target=\"_parent\"><img src=\"https://colab.research.google.com/assets/colab-badge.svg\" alt=\"Open In Colab\"/></a>"
      ]
    },
    {
      "cell_type": "code",
      "execution_count": 43,
      "metadata": {
        "id": "AOKkdqMwPB8u",
        "outputId": "ecb0d158-9101-4ab7-9c15-3b477efd36b8",
        "colab": {
          "base_uri": "https://localhost:8080/"
        }
      },
      "outputs": [
        {
          "output_type": "stream",
          "name": "stdout",
          "text": [
            "<class 'pandas.core.frame.DataFrame'>\n",
            "RangeIndex: 300000 entries, 0 to 299999\n",
            "Data columns (total 14 columns):\n",
            " #   Column                   Non-Null Count   Dtype  \n",
            "---  ------                   --------------   -----  \n",
            " 0   starttime                300000 non-null  object \n",
            " 1   stoptime                 300000 non-null  object \n",
            " 2   start station id         299831 non-null  float64\n",
            " 3   start station name       299831 non-null  object \n",
            " 4   start station latitude   300000 non-null  float64\n",
            " 5   start station longitude  300000 non-null  float64\n",
            " 6   end station id           299831 non-null  float64\n",
            " 7   end station name         299831 non-null  object \n",
            " 8   end station latitude     300000 non-null  float64\n",
            " 9   end station longitude    300000 non-null  float64\n",
            " 10  bikeid                   300000 non-null  int64  \n",
            " 11  usertype                 300000 non-null  object \n",
            " 12  birth year               300000 non-null  int64  \n",
            " 13  gender                   300000 non-null  int64  \n",
            "dtypes: float64(6), int64(3), object(5)\n",
            "memory usage: 32.0+ MB\n",
            "281.0\n",
            "33887\n",
            "0.77\n",
            "183582\n",
            "12\n",
            "11837\n"
          ]
        },
        {
          "output_type": "execute_result",
          "data": {
            "text/plain": [
              "9.480411004308916"
            ]
          },
          "metadata": {},
          "execution_count": 43
        }
      ],
      "source": [
        "import pandas as pd\n",
        "\n",
        "data = pd.read_csv('/content/citibike-tripdata (1).csv')\n",
        "data.info()\n",
        "\n",
        "print(data['start station id'].mode()[0]) #идентификатор самой популярной стартовой стоянки\n",
        "print(data['bikeid'].mode()[0]) #идентификатор самого популярного байка.\n",
        "\n",
        "# Какой тип клиентов (столбец usertype) является преобладающим — Subscriber или Customer?\n",
        "#В качестве ответа запишите долю клиентов преобладающего типа среди общего количества клиентов.\n",
        "# Ответ округлите до сотых.\n",
        "mode_usertype = data['usertype'].mode()[0]\n",
        "count_mode_user = data[data['usertype'] == mode_usertype].shape[0]\n",
        "print(round(count_mode_user / data.shape[0], 2))\n",
        "\n",
        "#Кто больше занимается велоспортом — мужчины или женщины?\n",
        "# В ответ запишите число поездок для той группы, у которой их больше.\n",
        "male_count = data[data['gender'] == 1].shape[0]\n",
        "female_count = data[data['gender'] == 0].shape[0]\n",
        "print(max([male_count, female_count]))\n",
        "\n",
        "data.drop(['start station id', 'end station id'], axis=1, inplace=True)\n",
        "print(data.shape[1])\n",
        "\n",
        "#Замените признак birth year на более понятный признак возраста клиента age.\n",
        "#Годом отсчёта возраста выберите 2018 год.\n",
        "# Столбец birth year удалите из таблицы. Сколько поездок совершено клиентами старше 60 лет?\n",
        "data['age'] = 2018 - data['birth year']\n",
        "data.drop(['birth year'], axis=1, inplace=True)\n",
        "print(data[data['age'] > 60].shape[0])\n",
        "\n",
        "#  Создайте признак длительности поездки trip duration.\n",
        "#Для этого вычислите интервал времени между временем окончания поездки (stoptime) и её началом (starttime).\n",
        "#Сколько целых минут длилась поездка под индексом 3 в таблице?\n",
        "\n",
        "data[\"starttime\"] = pd.to_datetime(data[\"starttime\"])\n",
        "data[\"stoptime\"] = pd.to_datetime(data[\"stoptime\"])\n",
        "data[\"trip duration\"] = data[\"stoptime\"] - data[\"starttime\"]\n",
        "data[\"trip duration\"][3]\n",
        "\n",
        "# Создайте «признак-мигалку» weekend, который равен 1,\n",
        "# если поездка начиналась в выходной день (суббота или воскресенье), и 0 — в противном случае.\n",
        "#Выясните, сколько поездок начиналось в выходные.\n",
        "weekday = data['starttime'].dt.dayofweek\n",
        "data['weekend'] = weekday.apply(lambda x: 1 if x ==5 or x == 6 else 0)\n",
        "data['weekend'].sum()\n",
        "def weekend(arg):\n",
        "    if arg in [5, 6]:\n",
        "        return 1\n",
        "    else:\n",
        "        return 0\n",
        "data[\"weekend\"] = data[\"starttime\"].dt.weekday.apply(weekend)\n",
        "data[data[\"weekend\"] == 1].shape[0]\n",
        "\n",
        "#Создайте признак времени суток поездки time_of_day. Время суток будем определять из часа начала поездки.\n",
        "#Условимся, что: поездка совершается ночью (night), если её час приходится на интервал от 0 (включительно) до 6 (включительно) часов;\n",
        "#поездка совершается утром (morning), если её час приходится на интервал от 6 (не включительно) до 12 (включительно) часов;\n",
        "#поездка совершается днём (day), если её час приходится на интервал от 12 (не включительно) до 18 (включительно) часов;\n",
        "#поездка совершается вечером (evening), если её час приходится на интервал от 18 (не включительно) до 23 часов (включительно).\n",
        "#Во сколько раз количество поездок, совершённых днём, больше, чем количество поездок, совёршенных ночью, за представленный в данных период времени? Ответ округлите до целых.\n",
        "\n",
        "def get_time_of_day(arg):\n",
        "    if arg <= 6:\n",
        "        return \"night\"\n",
        "    elif arg <= 12:\n",
        "        return \"morning\"\n",
        "    elif arg <= 18:\n",
        "        return \"day\"\n",
        "    else:\n",
        "        return \"evening\"\n",
        "data[\"time_of_day\"] = data[\"starttime\"].dt.hour.apply(get_time_of_day)\n",
        "data[\"time_of_day\"].value_counts()\n",
        "\n",
        "data[data[\"time_of_day\"] == \"day\"].shape[0] / data[\n",
        "    data[\"time_of_day\"] == \"night\"\n",
        "].shape[0]\n"
      ]
    },
    {
      "cell_type": "markdown",
      "source": [],
      "metadata": {
        "id": "fhH31t3fT0iN"
      }
    }
  ]
}