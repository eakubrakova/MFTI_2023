{
 "cells": [
  {
   "cell_type": "markdown",
   "id": "46550525-573a-434e-b7d4-cf3a630c9d2f",
   "metadata": {},
   "source": [
    "We start by creating all the necessary input prompts for out calculations. In this case we also make sure the input number is never a negative integer. I opted for trying to catch input errors by the try-except method. It makes sure that the code doesn't crash even if something outrageously wrong is entered. It only really adds a few lines of code while making sure it still is easy to read."
   ]
  },
  {
   "cell_type": "code",
   "execution_count": 48,
   "id": "e6da1b9a-b1c7-48aa-96cc-87c02ec0e43d",
   "metadata": {},
   "outputs": [
    {
     "name": "stdin",
     "output_type": "stream",
     "text": [
      "Enter number of ad clicks:  o\n"
     ]
    },
    {
     "name": "stdout",
     "output_type": "stream",
     "text": [
      "could not convert string to float: 'o'\n"
     ]
    },
    {
     "name": "stdin",
     "output_type": "stream",
     "text": [
      "Enter number of ad clicks:  0\n",
      "Enter number of ad impressions:  0\n"
     ]
    },
    {
     "name": "stdout",
     "output_type": "stream",
     "text": [
      "CTR: 0%\n"
     ]
    },
    {
     "name": "stdin",
     "output_type": "stream",
     "text": [
      "Enter total attributed conversion:  3\n",
      "Enter total clicks:  12\n"
     ]
    },
    {
     "name": "stdout",
     "output_type": "stream",
     "text": [
      "CR: 25.0%\n"
     ]
    },
    {
     "name": "stdin",
     "output_type": "stream",
     "text": [
      "Enter amount gained:  4\n",
      "Enter amount spent:  4555\n"
     ]
    },
    {
     "name": "stdout",
     "output_type": "stream",
     "text": [
      "ROI: -99.91218441273327%\n"
     ]
    },
    {
     "name": "stdin",
     "output_type": "stream",
     "text": [
      "Enter time spent by each user on a webpage (comma-separated):  3, 5, 6, -1000\n"
     ]
    },
    {
     "name": "stdout",
     "output_type": "stream",
     "text": [
      "Values cannot be negative.\n"
     ]
    },
    {
     "name": "stdin",
     "output_type": "stream",
     "text": [
      "Enter time spent by each user on a webpage (comma-separated):  1000, 33, 5\n"
     ]
    },
    {
     "name": "stdout",
     "output_type": "stream",
     "text": [
      "Average Page Time: 346.0\n"
     ]
    },
    {
     "name": "stdin",
     "output_type": "stream",
     "text": [
      "Enter average purchase value:  67890\n",
      "Enter average purchase frequency:  4\n",
      "Enter average customer lifespan:  80\n"
     ]
    },
    {
     "name": "stdout",
     "output_type": "stream",
     "text": [
      "CLV: 5430880.0\n"
     ]
    },
    {
     "name": "stdin",
     "output_type": "stream",
     "text": [
      "Enter total campaign cost:  50000\n",
      "Enter total acquisitions:  5\n"
     ]
    },
    {
     "name": "stdout",
     "output_type": "stream",
     "text": [
      "CPA: 10000.0\n"
     ]
    },
    {
     "name": "stdin",
     "output_type": "stream",
     "text": [
      "Enter number of customers at start:  400\n",
      "Enter number of customers at end:  450\n",
      "Enter number of new customers acquired:  60\n"
     ]
    },
    {
     "name": "stdout",
     "output_type": "stream",
     "text": [
      "CRR: 97.5%\n"
     ]
    },
    {
     "name": "stdin",
     "output_type": "stream",
     "text": [
      "Enter number of promoters:  69\n",
      "Enter number of detractors:  7\n",
      "Enter total number of survey respondents:  80\n"
     ]
    },
    {
     "name": "stdout",
     "output_type": "stream",
     "text": [
      "NPS: 77.5%\n"
     ]
    }
   ],
   "source": [
    "def get_positive_float(prompt):\n",
    "    while True:\n",
    "        try:\n",
    "            value = float(input(prompt))\n",
    "            if value < 0:\n",
    "                raise ValueError(\"Value cannot be negative.\")\n",
    "            return value\n",
    "        except ValueError as e:\n",
    "            print(e)\n",
    "\n",
    "def get_time_list(prompt):\n",
    "    while True:\n",
    "        try:\n",
    "            times = [float(t) for t in input(prompt).split(',')]\n",
    "            if any(t < 0 for t in times):\n",
    "                raise ValueError(\"Values cannot be negative.\")\n",
    "            return times\n",
    "        except ValueError as e:\n",
    "            print(e)\n",
    "\n",
    "try:\n",
    "    \n",
    "    #Click-Through Rate\n",
    "    total_clicks = get_positive_float('Enter number of ad clicks: ')\n",
    "    total_ad_impressions = get_positive_float('Enter number of ad impressions: ')\n",
    "    print(f\"CTR: {calculate_ctr(total_clicks, total_ad_impressions)}%\")\n",
    "    \n",
    "    #Conversion Rate \n",
    "    total_conversion = get_positive_float(\"Enter total attributed conversion: \")\n",
    "    total_clicks = get_positive_float(\"Enter total clicks: \")\n",
    "    print(f\"CR: {calculate_cr(total_conversion, total_clicks)}%\")\n",
    "    \n",
    "    #Return on Investment\n",
    "    gained = get_positive_float(\"Enter amount gained: \")\n",
    "    spent = get_positive_float(\"Enter amount spent: \")\n",
    "    print(f\"ROI: {calculate_roi(gained, spent)}%\")\n",
    "    \n",
    "    #Average Page Time\n",
    "    times = get_time_list(\"Enter time spent by each user on a webpage (comma-separated): \")\n",
    "    print(f\"Average Page Time: {calculate_avg_page_time(times)}\")\n",
    "    \n",
    "    #Customer Lifetime Value\n",
    "    avg_value = get_positive_float(\"Enter average purchase value: \")\n",
    "    avg_freq = get_positive_float(\"Enter average purchase frequency: \")\n",
    "    avg_lifespan = get_positive_float(\"Enter average customer lifespan: \")\n",
    "    print(f\"CLV: {calculate_clv(avg_value, avg_freq, avg_lifespan)}\")\n",
    "\n",
    "    #Cost-per-action\n",
    "    campaign_cost = get_positive_float(\"Enter total campaign cost: \")\n",
    "    total_acquisitions = get_positive_float(\"Enter total acquisitions: \")\n",
    "    print(f\"CPA: {calculate_cpa(campaign_cost, total_acquisitions)}\")\n",
    "\n",
    "    #Customer Retention Rate\n",
    "    start_customers = get_positive_float(\"Enter number of customers at start: \")\n",
    "    end_customers = get_positive_float(\"Enter number of customers at end: \")\n",
    "    new_customers = get_positive_float(\"Enter number of new customers acquired: \")\n",
    "    print(f\"CRR: {calculate_crr(end_customers, new_customers, start_customers)}%\")\n",
    "\n",
    "    #Net Promoter Score\n",
    "    promoters = get_positive_float(\"Enter number of promoters: \")\n",
    "    detractors = get_positive_float(\"Enter number of detractors: \")\n",
    "    total_respondents = get_positive_float(\"Enter total number of survey respondents: \")\n",
    "    print(f\"NPS: {calculate_nps(promoters, detractors, total_respondents)}%\")\n",
    "          \n",
    "except ValueError:\n",
    "    print(\"Please enter valid numbers for the metrics!\")\n",
    "\n",
    "\n",
    "\n"
   ]
  },
  {
   "cell_type": "markdown",
   "id": "9f7f85cc-c554-4d6c-893b-c11bd291d95a",
   "metadata": {},
   "source": [
    "Now we can proceed to calculating each metric."
   ]
  },
  {
   "cell_type": "code",
   "execution_count": 50,
   "id": "8996f9b9-51f6-4855-9068-911c83bdfdf2",
   "metadata": {},
   "outputs": [],
   "source": [
    "def calculate_ctr(total_clicks, total_ad_impressions):\n",
    "    \"Measuring how successful an ad has been in capturing users' attention\"\n",
    "    if total_ad_impressions == 0:\n",
    "        return 0\n",
    "    else:\n",
    "        return (total_clicks / total_ad_impressions) * 100"
   ]
  },
  {
   "cell_type": "code",
   "execution_count": 51,
   "id": "10026e7d-8125-469b-b4db-1ad3f80bd6d6",
   "metadata": {},
   "outputs": [],
   "source": [
    "def calculate_roi(gained, spent):\n",
    "    \"Measuring the amount of money you get back after investment\"\n",
    "    if spent == 0:\n",
    "        return 0\n",
    "    else:\n",
    "        return ((gained - spent) / spent) * 100          "
   ]
  },
  {
   "cell_type": "markdown",
   "id": "9a0170bc-422a-4ada-b84d-ab8713b4fe92",
   "metadata": {},
   "source": [
    "Time per user is tricky: we need to eliminate users that spent on the page less than 5 seconds. To do that, we create a special for-loop and. filter the results."
   ]
  },
  {
   "cell_type": "code",
   "execution_count": 53,
   "id": "c35ae933-50c5-4778-82e9-364b2528b3d0",
   "metadata": {},
   "outputs": [],
   "source": [
    "def calculate_avg_page_time(time_spent_list):\n",
    "    \"Measuring the average time per user spent on the page\"\n",
    "    \n",
    "    filtered_times = [time for time in time_spent_list if time >= 5]\n",
    "    users = len(filtered_times)\n",
    "    if users == 0:\n",
    "        return 0\n",
    "    return sum(filtered_times) / users"
   ]
  },
  {
   "cell_type": "code",
   "execution_count": 54,
   "id": "c0a55132-9cf1-45cb-a95b-dba1d6187a41",
   "metadata": {},
   "outputs": [],
   "source": [
    "def calculate_clv(average_purchase_value, average_purchase_frequency, average_customer_lifespan):\n",
    "    \"Measuring how much revenue a customer will drive over time\"\n",
    "    return (average_purchase_value - average_purchase_frequency) * average_customer_lifespan\n"
   ]
  },
  {
   "cell_type": "code",
   "execution_count": 55,
   "id": "2477560f-a496-4377-94c6-d5493e540d2d",
   "metadata": {},
   "outputs": [],
   "source": [
    "def calculate_cr(total_conversion, total_clicks):\n",
    "    \"Measuring the number of people who visited the site\"\n",
    "    if total_clicks == 0:\n",
    "        return 0\n",
    "    return (total_conversion / total_clicks) * 100\n"
   ]
  },
  {
   "cell_type": "markdown",
   "id": "5242f0bd-65fb-47ee-a52e-3d162b369695",
   "metadata": {},
   "source": [
    "Now, we calculate three more metrics that seemed important to me. Cost Per Acquisition measures the aggregate cost to acquire one paying customer on a campaign level. Meaning, it calculates the marketing success. We divide the total cost by the number of new customers acquired from the same campaign.\n",
    "\n",
    "Example: \n",
    "We run a $1000 campaign and gained 50 new customers. CPA = 20."
   ]
  },
  {
   "cell_type": "code",
   "execution_count": 57,
   "id": "beb17efe-f807-4de1-aba9-ed6cedbc7a76",
   "metadata": {},
   "outputs": [],
   "source": [
    "def calculate_cpa(total_campaign_cost, total_acquisitions):\n",
    "   \n",
    "    if total_acquisitions == 0:\n",
    "        return 0\n",
    "    return total_campaign_cost / total_acquisitions\n"
   ]
  },
  {
   "cell_type": "markdown",
   "id": "33d369d7-7db9-4392-a09d-72c2caef586f",
   "metadata": {},
   "source": [
    "Let's examine Customer retention rate. It allows to calculate the percentage of existing customers who remain customers after a given period. Meaning, we gain insight into how well everything is going for our customers. If this rate is low, changes need to be made.\n",
    "Retention Rate (%) = (Ending Customers - New Customers) / Start Customers * 100\n",
    "\n",
    "Example: \n",
    "\n",
    "By June we had 100 customers. Three months later, we have 110, but 15 of them are new. Our. retention rate would be 95%."
   ]
  },
  {
   "cell_type": "code",
   "execution_count": 59,
   "id": "266cd273-e051-468c-a52e-fa0f5a124589",
   "metadata": {},
   "outputs": [],
   "source": [
    "def calculate_crr(end_customers, new_customers, start_customers):\n",
    "    \n",
    "    if start_customers == 0:\n",
    "        return 0\n",
    "    return ((end_customers - new_customers) / start_customers) * 100\n"
   ]
  },
  {
   "cell_type": "markdown",
   "id": "d8c60c29-bad5-476b-a530-bd7d24eeb28e",
   "metadata": {},
   "source": [
    "Finally, we calculate Net Promoter Score to measure the loyalty of customers to the company. It is calculated by subtracting the percentage of detractors from the percentage of promoters (upon making a survey) divided by total_respondents and multiplied by 100.\n",
    "\n",
    "Example:\n",
    "Upon checking the results of our survey, we find out that 70 people gave a positive feedback while 30 are not satisfied. The total of respondents is 100. NPS = 40%.\n"
   ]
  },
  {
   "cell_type": "code",
   "execution_count": 61,
   "id": "8c889a55-785c-420e-8a63-f7efacd884fd",
   "metadata": {},
   "outputs": [],
   "source": [
    "def calculate_nps(promoters, detractors, total_respondents):\n",
    "    if total_respondents == 0:\n",
    "        return 0\n",
    "    return ((promoters - detractors) / total_respondents) * 100   \n"
   ]
  },
  {
   "cell_type": "markdown",
   "id": "e4ac2587-e7ab-4f69-a4f8-b76cef2cfca2",
   "metadata": {},
   "source": [
    "To sum up, we started by working with input and making sure that it is correct. Then we assigned a function to calculating each metric while making sure that division by zero never occurs. Only one of the functions required special conditions described above, the calculate_avg_page_time. The irrelevant data in this case is discarded.\n",
    "\n"
   ]
  },
  {
   "cell_type": "markdown",
   "id": "f1b72934-32d1-4665-8ac6-9b2406a44233",
   "metadata": {},
   "source": [
    "\n",
    "          \n",
    "          \n",
    "\n",
    "\n"
   ]
  }
 ],
 "metadata": {
  "kernelspec": {
   "display_name": "anaconda-panel-2023.05-py310",
   "language": "python",
   "name": "conda-env-anaconda-panel-2023.05-py310-py"
  },
  "language_info": {
   "codemirror_mode": {
    "name": "ipython",
    "version": 3
   },
   "file_extension": ".py",
   "mimetype": "text/x-python",
   "name": "python",
   "nbconvert_exporter": "python",
   "pygments_lexer": "ipython3",
   "version": "3.11.4"
  }
 },
 "nbformat": 4,
 "nbformat_minor": 5
}
