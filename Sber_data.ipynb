{
  "nbformat": 4,
  "nbformat_minor": 0,
  "metadata": {
    "colab": {
      "provenance": [],
      "authorship_tag": "ABX9TyMAO/H1nAiOe8N1+UBrEnf6",
      "include_colab_link": true
    },
    "kernelspec": {
      "name": "python3",
      "display_name": "Python 3"
    },
    "language_info": {
      "name": "python"
    }
  },
  "cells": [
    {
      "cell_type": "markdown",
      "metadata": {
        "id": "view-in-github",
        "colab_type": "text"
      },
      "source": [
        "<a href=\"https://colab.research.google.com/github/eakubrakova/MFTI_2023/blob/main/Sber_data.ipynb\" target=\"_parent\"><img src=\"https://colab.research.google.com/assets/colab-badge.svg\" alt=\"Open In Colab\"/></a>"
      ]
    },
    {
      "cell_type": "code",
      "execution_count": 71,
      "metadata": {
        "colab": {
          "base_uri": "https://localhost:8080/",
          "height": 290
        },
        "id": "QBwc2IFpvurs",
        "outputId": "225cb215-25ee-4f34-b337-bfb7ad976fb4"
      },
      "outputs": [
        {
          "output_type": "stream",
          "name": "stdout",
          "text": [
            "Using matplotlib backend: agg\n"
          ]
        },
        {
          "output_type": "execute_result",
          "data": {
            "text/plain": [
              "   id  full_sq  life_sq  floor           sub_area  preschool_quota  \\\n",
              "0   1       43     27.0    4.0           Bibirevo           5001.0   \n",
              "1   2       34     19.0    3.0  Nagatinskij Zaton           3119.0   \n",
              "2   3       43     29.0    2.0     Tekstil'shhiki           1463.0   \n",
              "3   4       89     50.0    9.0             Mitino           6839.0   \n",
              "4   5       77     77.0    4.0          Basmannoe           3240.0   \n",
              "\n",
              "   preschool_education_centers_raion  school_quota  \\\n",
              "0                                  5       11065.0   \n",
              "1                                  5        6237.0   \n",
              "2                                  4        5580.0   \n",
              "3                                  9       17063.0   \n",
              "4                                  7        7770.0   \n",
              "\n",
              "   school_education_centers_raion  school_education_centers_top_20_raion  ...  \\\n",
              "0                               5                                      0  ...   \n",
              "1                               8                                      0  ...   \n",
              "2                               7                                      0  ...   \n",
              "3                              10                                      0  ...   \n",
              "4                               9                                      0  ...   \n",
              "\n",
              "   office_km  additional_education_km  preschool_km  big_church_km  \\\n",
              "0   0.637189                 0.947962      0.177975       0.625783   \n",
              "1   0.688796                 1.072315      0.273345       0.967821   \n",
              "2   1.543049                 0.391957      0.158072       3.178751   \n",
              "3   0.934273                 0.892674      0.236455       1.031777   \n",
              "4   0.077901                 0.810801      0.376838       0.378756   \n",
              "\n",
              "   church_synagogue_km  theater_km  museum_km    ecology mosque_count_1000  \\\n",
              "0             0.628187   14.053047   7.389498       good                 0   \n",
              "1             0.471447    6.829889   0.709260  excellent                 0   \n",
              "2             0.755946    4.273200   3.156423       poor                 0   \n",
              "3             1.561505   16.990677  16.041521       good                 0   \n",
              "4             0.121681    1.112486   1.800125  excellent                 0   \n",
              "\n",
              "  price_doc  \n",
              "0   5850000  \n",
              "1   6000000  \n",
              "2   5700000  \n",
              "3  13100000  \n",
              "4  16331452  \n",
              "\n",
              "[5 rows x 61 columns]"
            ],
            "text/html": [
              "\n",
              "  <div id=\"df-4f8ce642-800f-4353-810b-e4f568daedd2\" class=\"colab-df-container\">\n",
              "    <div>\n",
              "<style scoped>\n",
              "    .dataframe tbody tr th:only-of-type {\n",
              "        vertical-align: middle;\n",
              "    }\n",
              "\n",
              "    .dataframe tbody tr th {\n",
              "        vertical-align: top;\n",
              "    }\n",
              "\n",
              "    .dataframe thead th {\n",
              "        text-align: right;\n",
              "    }\n",
              "</style>\n",
              "<table border=\"1\" class=\"dataframe\">\n",
              "  <thead>\n",
              "    <tr style=\"text-align: right;\">\n",
              "      <th></th>\n",
              "      <th>id</th>\n",
              "      <th>full_sq</th>\n",
              "      <th>life_sq</th>\n",
              "      <th>floor</th>\n",
              "      <th>sub_area</th>\n",
              "      <th>preschool_quota</th>\n",
              "      <th>preschool_education_centers_raion</th>\n",
              "      <th>school_quota</th>\n",
              "      <th>school_education_centers_raion</th>\n",
              "      <th>school_education_centers_top_20_raion</th>\n",
              "      <th>...</th>\n",
              "      <th>office_km</th>\n",
              "      <th>additional_education_km</th>\n",
              "      <th>preschool_km</th>\n",
              "      <th>big_church_km</th>\n",
              "      <th>church_synagogue_km</th>\n",
              "      <th>theater_km</th>\n",
              "      <th>museum_km</th>\n",
              "      <th>ecology</th>\n",
              "      <th>mosque_count_1000</th>\n",
              "      <th>price_doc</th>\n",
              "    </tr>\n",
              "  </thead>\n",
              "  <tbody>\n",
              "    <tr>\n",
              "      <th>0</th>\n",
              "      <td>1</td>\n",
              "      <td>43</td>\n",
              "      <td>27.0</td>\n",
              "      <td>4.0</td>\n",
              "      <td>Bibirevo</td>\n",
              "      <td>5001.0</td>\n",
              "      <td>5</td>\n",
              "      <td>11065.0</td>\n",
              "      <td>5</td>\n",
              "      <td>0</td>\n",
              "      <td>...</td>\n",
              "      <td>0.637189</td>\n",
              "      <td>0.947962</td>\n",
              "      <td>0.177975</td>\n",
              "      <td>0.625783</td>\n",
              "      <td>0.628187</td>\n",
              "      <td>14.053047</td>\n",
              "      <td>7.389498</td>\n",
              "      <td>good</td>\n",
              "      <td>0</td>\n",
              "      <td>5850000</td>\n",
              "    </tr>\n",
              "    <tr>\n",
              "      <th>1</th>\n",
              "      <td>2</td>\n",
              "      <td>34</td>\n",
              "      <td>19.0</td>\n",
              "      <td>3.0</td>\n",
              "      <td>Nagatinskij Zaton</td>\n",
              "      <td>3119.0</td>\n",
              "      <td>5</td>\n",
              "      <td>6237.0</td>\n",
              "      <td>8</td>\n",
              "      <td>0</td>\n",
              "      <td>...</td>\n",
              "      <td>0.688796</td>\n",
              "      <td>1.072315</td>\n",
              "      <td>0.273345</td>\n",
              "      <td>0.967821</td>\n",
              "      <td>0.471447</td>\n",
              "      <td>6.829889</td>\n",
              "      <td>0.709260</td>\n",
              "      <td>excellent</td>\n",
              "      <td>0</td>\n",
              "      <td>6000000</td>\n",
              "    </tr>\n",
              "    <tr>\n",
              "      <th>2</th>\n",
              "      <td>3</td>\n",
              "      <td>43</td>\n",
              "      <td>29.0</td>\n",
              "      <td>2.0</td>\n",
              "      <td>Tekstil'shhiki</td>\n",
              "      <td>1463.0</td>\n",
              "      <td>4</td>\n",
              "      <td>5580.0</td>\n",
              "      <td>7</td>\n",
              "      <td>0</td>\n",
              "      <td>...</td>\n",
              "      <td>1.543049</td>\n",
              "      <td>0.391957</td>\n",
              "      <td>0.158072</td>\n",
              "      <td>3.178751</td>\n",
              "      <td>0.755946</td>\n",
              "      <td>4.273200</td>\n",
              "      <td>3.156423</td>\n",
              "      <td>poor</td>\n",
              "      <td>0</td>\n",
              "      <td>5700000</td>\n",
              "    </tr>\n",
              "    <tr>\n",
              "      <th>3</th>\n",
              "      <td>4</td>\n",
              "      <td>89</td>\n",
              "      <td>50.0</td>\n",
              "      <td>9.0</td>\n",
              "      <td>Mitino</td>\n",
              "      <td>6839.0</td>\n",
              "      <td>9</td>\n",
              "      <td>17063.0</td>\n",
              "      <td>10</td>\n",
              "      <td>0</td>\n",
              "      <td>...</td>\n",
              "      <td>0.934273</td>\n",
              "      <td>0.892674</td>\n",
              "      <td>0.236455</td>\n",
              "      <td>1.031777</td>\n",
              "      <td>1.561505</td>\n",
              "      <td>16.990677</td>\n",
              "      <td>16.041521</td>\n",
              "      <td>good</td>\n",
              "      <td>0</td>\n",
              "      <td>13100000</td>\n",
              "    </tr>\n",
              "    <tr>\n",
              "      <th>4</th>\n",
              "      <td>5</td>\n",
              "      <td>77</td>\n",
              "      <td>77.0</td>\n",
              "      <td>4.0</td>\n",
              "      <td>Basmannoe</td>\n",
              "      <td>3240.0</td>\n",
              "      <td>7</td>\n",
              "      <td>7770.0</td>\n",
              "      <td>9</td>\n",
              "      <td>0</td>\n",
              "      <td>...</td>\n",
              "      <td>0.077901</td>\n",
              "      <td>0.810801</td>\n",
              "      <td>0.376838</td>\n",
              "      <td>0.378756</td>\n",
              "      <td>0.121681</td>\n",
              "      <td>1.112486</td>\n",
              "      <td>1.800125</td>\n",
              "      <td>excellent</td>\n",
              "      <td>0</td>\n",
              "      <td>16331452</td>\n",
              "    </tr>\n",
              "  </tbody>\n",
              "</table>\n",
              "<p>5 rows × 61 columns</p>\n",
              "</div>\n",
              "    <div class=\"colab-df-buttons\">\n",
              "\n",
              "  <div class=\"colab-df-container\">\n",
              "    <button class=\"colab-df-convert\" onclick=\"convertToInteractive('df-4f8ce642-800f-4353-810b-e4f568daedd2')\"\n",
              "            title=\"Convert this dataframe to an interactive table.\"\n",
              "            style=\"display:none;\">\n",
              "\n",
              "  <svg xmlns=\"http://www.w3.org/2000/svg\" height=\"24px\" viewBox=\"0 -960 960 960\">\n",
              "    <path d=\"M120-120v-720h720v720H120Zm60-500h600v-160H180v160Zm220 220h160v-160H400v160Zm0 220h160v-160H400v160ZM180-400h160v-160H180v160Zm440 0h160v-160H620v160ZM180-180h160v-160H180v160Zm440 0h160v-160H620v160Z\"/>\n",
              "  </svg>\n",
              "    </button>\n",
              "\n",
              "  <style>\n",
              "    .colab-df-container {\n",
              "      display:flex;\n",
              "      gap: 12px;\n",
              "    }\n",
              "\n",
              "    .colab-df-convert {\n",
              "      background-color: #E8F0FE;\n",
              "      border: none;\n",
              "      border-radius: 50%;\n",
              "      cursor: pointer;\n",
              "      display: none;\n",
              "      fill: #1967D2;\n",
              "      height: 32px;\n",
              "      padding: 0 0 0 0;\n",
              "      width: 32px;\n",
              "    }\n",
              "\n",
              "    .colab-df-convert:hover {\n",
              "      background-color: #E2EBFA;\n",
              "      box-shadow: 0px 1px 2px rgba(60, 64, 67, 0.3), 0px 1px 3px 1px rgba(60, 64, 67, 0.15);\n",
              "      fill: #174EA6;\n",
              "    }\n",
              "\n",
              "    .colab-df-buttons div {\n",
              "      margin-bottom: 4px;\n",
              "    }\n",
              "\n",
              "    [theme=dark] .colab-df-convert {\n",
              "      background-color: #3B4455;\n",
              "      fill: #D2E3FC;\n",
              "    }\n",
              "\n",
              "    [theme=dark] .colab-df-convert:hover {\n",
              "      background-color: #434B5C;\n",
              "      box-shadow: 0px 1px 3px 1px rgba(0, 0, 0, 0.15);\n",
              "      filter: drop-shadow(0px 1px 2px rgba(0, 0, 0, 0.3));\n",
              "      fill: #FFFFFF;\n",
              "    }\n",
              "  </style>\n",
              "\n",
              "    <script>\n",
              "      const buttonEl =\n",
              "        document.querySelector('#df-4f8ce642-800f-4353-810b-e4f568daedd2 button.colab-df-convert');\n",
              "      buttonEl.style.display =\n",
              "        google.colab.kernel.accessAllowed ? 'block' : 'none';\n",
              "\n",
              "      async function convertToInteractive(key) {\n",
              "        const element = document.querySelector('#df-4f8ce642-800f-4353-810b-e4f568daedd2');\n",
              "        const dataTable =\n",
              "          await google.colab.kernel.invokeFunction('convertToInteractive',\n",
              "                                                    [key], {});\n",
              "        if (!dataTable) return;\n",
              "\n",
              "        const docLinkHtml = 'Like what you see? Visit the ' +\n",
              "          '<a target=\"_blank\" href=https://colab.research.google.com/notebooks/data_table.ipynb>data table notebook</a>'\n",
              "          + ' to learn more about interactive tables.';\n",
              "        element.innerHTML = '';\n",
              "        dataTable['output_type'] = 'display_data';\n",
              "        await google.colab.output.renderOutput(dataTable, element);\n",
              "        const docLink = document.createElement('div');\n",
              "        docLink.innerHTML = docLinkHtml;\n",
              "        element.appendChild(docLink);\n",
              "      }\n",
              "    </script>\n",
              "  </div>\n",
              "\n",
              "\n",
              "<div id=\"df-8b9b009d-5c74-4de4-a4cc-782b4a0c8b60\">\n",
              "  <button class=\"colab-df-quickchart\" onclick=\"quickchart('df-8b9b009d-5c74-4de4-a4cc-782b4a0c8b60')\"\n",
              "            title=\"Suggest charts\"\n",
              "            style=\"display:none;\">\n",
              "\n",
              "<svg xmlns=\"http://www.w3.org/2000/svg\" height=\"24px\"viewBox=\"0 0 24 24\"\n",
              "     width=\"24px\">\n",
              "    <g>\n",
              "        <path d=\"M19 3H5c-1.1 0-2 .9-2 2v14c0 1.1.9 2 2 2h14c1.1 0 2-.9 2-2V5c0-1.1-.9-2-2-2zM9 17H7v-7h2v7zm4 0h-2V7h2v10zm4 0h-2v-4h2v4z\"/>\n",
              "    </g>\n",
              "</svg>\n",
              "  </button>\n",
              "\n",
              "<style>\n",
              "  .colab-df-quickchart {\n",
              "      --bg-color: #E8F0FE;\n",
              "      --fill-color: #1967D2;\n",
              "      --hover-bg-color: #E2EBFA;\n",
              "      --hover-fill-color: #174EA6;\n",
              "      --disabled-fill-color: #AAA;\n",
              "      --disabled-bg-color: #DDD;\n",
              "  }\n",
              "\n",
              "  [theme=dark] .colab-df-quickchart {\n",
              "      --bg-color: #3B4455;\n",
              "      --fill-color: #D2E3FC;\n",
              "      --hover-bg-color: #434B5C;\n",
              "      --hover-fill-color: #FFFFFF;\n",
              "      --disabled-bg-color: #3B4455;\n",
              "      --disabled-fill-color: #666;\n",
              "  }\n",
              "\n",
              "  .colab-df-quickchart {\n",
              "    background-color: var(--bg-color);\n",
              "    border: none;\n",
              "    border-radius: 50%;\n",
              "    cursor: pointer;\n",
              "    display: none;\n",
              "    fill: var(--fill-color);\n",
              "    height: 32px;\n",
              "    padding: 0;\n",
              "    width: 32px;\n",
              "  }\n",
              "\n",
              "  .colab-df-quickchart:hover {\n",
              "    background-color: var(--hover-bg-color);\n",
              "    box-shadow: 0 1px 2px rgba(60, 64, 67, 0.3), 0 1px 3px 1px rgba(60, 64, 67, 0.15);\n",
              "    fill: var(--button-hover-fill-color);\n",
              "  }\n",
              "\n",
              "  .colab-df-quickchart-complete:disabled,\n",
              "  .colab-df-quickchart-complete:disabled:hover {\n",
              "    background-color: var(--disabled-bg-color);\n",
              "    fill: var(--disabled-fill-color);\n",
              "    box-shadow: none;\n",
              "  }\n",
              "\n",
              "  .colab-df-spinner {\n",
              "    border: 2px solid var(--fill-color);\n",
              "    border-color: transparent;\n",
              "    border-bottom-color: var(--fill-color);\n",
              "    animation:\n",
              "      spin 1s steps(1) infinite;\n",
              "  }\n",
              "\n",
              "  @keyframes spin {\n",
              "    0% {\n",
              "      border-color: transparent;\n",
              "      border-bottom-color: var(--fill-color);\n",
              "      border-left-color: var(--fill-color);\n",
              "    }\n",
              "    20% {\n",
              "      border-color: transparent;\n",
              "      border-left-color: var(--fill-color);\n",
              "      border-top-color: var(--fill-color);\n",
              "    }\n",
              "    30% {\n",
              "      border-color: transparent;\n",
              "      border-left-color: var(--fill-color);\n",
              "      border-top-color: var(--fill-color);\n",
              "      border-right-color: var(--fill-color);\n",
              "    }\n",
              "    40% {\n",
              "      border-color: transparent;\n",
              "      border-right-color: var(--fill-color);\n",
              "      border-top-color: var(--fill-color);\n",
              "    }\n",
              "    60% {\n",
              "      border-color: transparent;\n",
              "      border-right-color: var(--fill-color);\n",
              "    }\n",
              "    80% {\n",
              "      border-color: transparent;\n",
              "      border-right-color: var(--fill-color);\n",
              "      border-bottom-color: var(--fill-color);\n",
              "    }\n",
              "    90% {\n",
              "      border-color: transparent;\n",
              "      border-bottom-color: var(--fill-color);\n",
              "    }\n",
              "  }\n",
              "</style>\n",
              "\n",
              "  <script>\n",
              "    async function quickchart(key) {\n",
              "      const quickchartButtonEl =\n",
              "        document.querySelector('#' + key + ' button');\n",
              "      quickchartButtonEl.disabled = true;  // To prevent multiple clicks.\n",
              "      quickchartButtonEl.classList.add('colab-df-spinner');\n",
              "      try {\n",
              "        const charts = await google.colab.kernel.invokeFunction(\n",
              "            'suggestCharts', [key], {});\n",
              "      } catch (error) {\n",
              "        console.error('Error during call to suggestCharts:', error);\n",
              "      }\n",
              "      quickchartButtonEl.classList.remove('colab-df-spinner');\n",
              "      quickchartButtonEl.classList.add('colab-df-quickchart-complete');\n",
              "    }\n",
              "    (() => {\n",
              "      let quickchartButtonEl =\n",
              "        document.querySelector('#df-8b9b009d-5c74-4de4-a4cc-782b4a0c8b60 button');\n",
              "      quickchartButtonEl.style.display =\n",
              "        google.colab.kernel.accessAllowed ? 'block' : 'none';\n",
              "    })();\n",
              "  </script>\n",
              "</div>\n",
              "    </div>\n",
              "  </div>\n"
            ]
          },
          "metadata": {},
          "execution_count": 71
        }
      ],
      "source": [
        "\"\"\"Требования Сбера состояли в построении модели, которая бы прогнозировала цены на жильё в Москве,\n",
        "опираясь на параметры самого жилья, а также состояние экономики и финансового сектора в стране.\"\"\"\n",
        "\n",
        "import pandas as pd\n",
        "import numpy as np\n",
        "%matplotlib\n",
        "import matplotlib.pyplot as plt\n",
        "import seaborn as sns\n",
        "\n",
        "\n",
        "sber_data = pd.read_csv('/content/sber_data.csv', sep = ',')\n",
        "sber_data.head()\n"
      ]
    },
    {
      "cell_type": "markdown",
      "source": [
        "Посмотрим общую информацию о таблице:"
      ],
      "metadata": {
        "id": "676J1MZQ9gmn"
      }
    },
    {
      "cell_type": "code",
      "source": [
        "sber_data.info()"
      ],
      "metadata": {
        "colab": {
          "base_uri": "https://localhost:8080/"
        },
        "id": "dkg0yuzr9krM",
        "outputId": "1614670f-08f5-4ba9-9be9-fbe4e4a50be0"
      },
      "execution_count": null,
      "outputs": [
        {
          "output_type": "stream",
          "name": "stdout",
          "text": [
            "<class 'pandas.core.frame.DataFrame'>\n",
            "RangeIndex: 30471 entries, 0 to 30470\n",
            "Data columns (total 61 columns):\n",
            " #   Column                                 Non-Null Count  Dtype  \n",
            "---  ------                                 --------------  -----  \n",
            " 0   id                                     30471 non-null  int64  \n",
            " 1   full_sq                                30471 non-null  int64  \n",
            " 2   life_sq                                24088 non-null  float64\n",
            " 3   floor                                  30304 non-null  float64\n",
            " 4   sub_area                               30471 non-null  object \n",
            " 5   preschool_quota                        23783 non-null  float64\n",
            " 6   preschool_education_centers_raion      30471 non-null  int64  \n",
            " 7   school_quota                           23786 non-null  float64\n",
            " 8   school_education_centers_raion         30471 non-null  int64  \n",
            " 9   school_education_centers_top_20_raion  30471 non-null  int64  \n",
            " 10  hospital_beds_raion                    16030 non-null  float64\n",
            " 11  healthcare_centers_raion               30471 non-null  int64  \n",
            " 12  university_top_20_raion                30471 non-null  int64  \n",
            " 13  sport_objects_raion                    30471 non-null  int64  \n",
            " 14  additional_education_raion             30471 non-null  int64  \n",
            " 15  culture_objects_top_25_raion           30471 non-null  int64  \n",
            " 16  shopping_centers_raion                 30471 non-null  int64  \n",
            " 17  office_raion                           30471 non-null  int64  \n",
            " 18  oil_chemistry_raion                    30471 non-null  object \n",
            " 19  railroad_terminal_raion                30471 non-null  object \n",
            " 20  nuclear_reactor_raion                  30471 non-null  object \n",
            " 21  metro_min_avto                         30471 non-null  float64\n",
            " 22  metro_km_avto                          30471 non-null  float64\n",
            " 23  metro_min_walk                         30446 non-null  float64\n",
            " 24  metro_km_walk                          30446 non-null  float64\n",
            " 25  kindergarten_km                        30471 non-null  float64\n",
            " 26  school_km                              30471 non-null  float64\n",
            " 27  park_km                                30471 non-null  float64\n",
            " 28  green_zone_km                          30471 non-null  float64\n",
            " 29  industrial_km                          30471 non-null  float64\n",
            " 30  railroad_station_walk_km               30446 non-null  float64\n",
            " 31  railroad_station_walk_min              30446 non-null  float64\n",
            " 32  public_transport_station_km            30471 non-null  float64\n",
            " 33  public_transport_station_min_walk      30471 non-null  float64\n",
            " 34  mkad_km                                30471 non-null  float64\n",
            " 35  ttk_km                                 30471 non-null  float64\n",
            " 36  sadovoe_km                             30471 non-null  float64\n",
            " 37  bulvar_ring_km                         30471 non-null  float64\n",
            " 38  kremlin_km                             30471 non-null  float64\n",
            " 39  big_road1_1line                        30471 non-null  object \n",
            " 40  big_market_km                          30471 non-null  float64\n",
            " 41  market_shop_km                         30471 non-null  float64\n",
            " 42  fitness_km                             30471 non-null  float64\n",
            " 43  swim_pool_km                           30471 non-null  float64\n",
            " 44  ice_rink_km                            30471 non-null  float64\n",
            " 45  stadium_km                             30471 non-null  float64\n",
            " 46  basketball_km                          30471 non-null  float64\n",
            " 47  hospice_morgue_km                      30471 non-null  float64\n",
            " 48  university_km                          30471 non-null  float64\n",
            " 49  workplaces_km                          30471 non-null  float64\n",
            " 50  shopping_centers_km                    30471 non-null  float64\n",
            " 51  office_km                              30471 non-null  float64\n",
            " 52  additional_education_km                30471 non-null  float64\n",
            " 53  preschool_km                           30471 non-null  float64\n",
            " 54  big_church_km                          30471 non-null  float64\n",
            " 55  church_synagogue_km                    30471 non-null  float64\n",
            " 56  theater_km                             30471 non-null  float64\n",
            " 57  museum_km                              30471 non-null  float64\n",
            " 58  ecology                                30471 non-null  object \n",
            " 59  mosque_count_1000                      30471 non-null  int64  \n",
            " 60  price_doc                              30471 non-null  int64  \n",
            "dtypes: float64(41), int64(14), object(6)\n",
            "memory usage: 14.2+ MB\n"
          ]
        }
      ]
    },
    {
      "cell_type": "markdown",
      "source": [
        "Сколько районов Москвы и Московской области представлено в данных?\n",
        "Чему равна максимальная цена квартир (price_doc)?"
      ],
      "metadata": {
        "id": "TjnL1t_70Ovp"
      }
    },
    {
      "cell_type": "code",
      "source": [
        "regions = sber_data['sub_area'].nunique()\n",
        "print(f'Количество районов Москвы и Московской области: {regions}')\n",
        "price_doc = sber_data['price_doc'].max()\n",
        "print(f'Максимальная цена квартир: {price_doc}')"
      ],
      "metadata": {
        "colab": {
          "base_uri": "https://localhost:8080/"
        },
        "id": "AUO4DrTGwI9c",
        "outputId": "4b0bc904-d46f-4fe3-cc90-71fdca4acefd"
      },
      "execution_count": null,
      "outputs": [
        {
          "output_type": "stream",
          "name": "stdout",
          "text": [
            "Количество районов Москвы и Московской области: 146\n",
            "Максимальная цена квартир: 111111112\n"
          ]
        }
      ]
    },
    {
      "cell_type": "markdown",
      "source": [
        "Проверим, влияет ли уровень экологической обстановки в районе на цену квартиры. Для этого построим коробчатую диаграмму цен на квартиры (price_doc) в зависимости от уровня экологической обстановки в районе (ecology). Какой уровень ценится на рынке меньше всего?"
      ],
      "metadata": {
        "id": "_GhtRHQf0MMA"
      }
    },
    {
      "cell_type": "code",
      "source": [
        "fig = plt.figure(figsize=(10, 5))\n",
        "sns.boxplot(data=sber_data, x='price_doc', y='ecology')\n",
        "plt.show()"
      ],
      "metadata": {
        "id": "MLZo0L9RBtw9"
      },
      "execution_count": 74,
      "outputs": []
    },
    {
      "cell_type": "markdown",
      "source": [
        "На полученной диаграмме видно, что наименьшую медианную цену и разброс цен имеют квартиры для которых уровень экологической обстановки неизвестен (отмечен как \"no data\")."
      ],
      "metadata": {
        "id": "6MU5FmwzB-ps"
      }
    },
    {
      "cell_type": "markdown",
      "source": [
        "Построим диаграмму рассеяния, которая покажет, как цена на квартиру (price_doc) связана с расстоянием до центра Москвы (kremlin_km)."
      ],
      "metadata": {
        "id": "GY3sgtEC03Gy"
      }
    },
    {
      "cell_type": "code",
      "source": [
        "fig = plt.figure(figsize=(10, 5))\n",
        "sns.scatterplot(data=sber_data, y='price_doc', x='kremlin_km')\n",
        "plt.show()"
      ],
      "metadata": {
        "id": "08LT3hylC8K1"
      },
      "execution_count": 75,
      "outputs": []
    },
    {
      "cell_type": "markdown",
      "source": [
        "Из отметок на оси абсцисс видно, что большая часть наблюдений (точек) находится в интервале от 0 до 40 км, далее частота резко падает.\n",
        "Также очевидно, что с ростом расстояния до центра города постепенно уменьшается значение стоимости квартир."
      ],
      "metadata": {
        "id": "pYSpt_AhCvWc"
      }
    },
    {
      "cell_type": "markdown",
      "source": [
        "#СПИСОК СТОЛБЦОВ С ПРОПУСКАМИ"
      ],
      "metadata": {
        "id": "qUZ3nPfQEv-f"
      }
    },
    {
      "cell_type": "markdown",
      "source": [
        "Первый способ — это метод .info(), реализованный выше. Но если пропуски скрыты, то такой способ работы не совсем удобен. Второй спопоб - вывести на экран названия столбцов, где число пропусков больше 0.\n",
        "Для этого вычислим средний по столбцам результат метода isnull(). Получим долю пропусков в каждом столбце.\n",
        "\n",
        "Умножаем на 100 %, находим столбцы, где доля пропусков больше 0, сортируем по убыванию и выводим результат:"
      ],
      "metadata": {
        "id": "ATANvC1OE8lW"
      }
    },
    {
      "cell_type": "code",
      "source": [
        "cols_null_percent = sber_data.isnull().mean() * 100\n",
        "cols_with_null = cols_null_percent[cols_null_percent>0].sort_values(ascending=False)\n",
        "display(cols_with_null)"
      ],
      "metadata": {
        "colab": {
          "base_uri": "https://localhost:8080/",
          "height": 191
        },
        "id": "_mvo6UpTFQie",
        "outputId": "61179455-63ed-4290-9e9a-721e3bf5aa74"
      },
      "execution_count": 76,
      "outputs": [
        {
          "output_type": "display_data",
          "data": {
            "text/plain": [
              "hospital_beds_raion          47.392603\n",
              "preschool_quota              21.948738\n",
              "school_quota                 21.938893\n",
              "life_sq                      20.947786\n",
              "floor                         0.548062\n",
              "metro_min_walk                0.082045\n",
              "metro_km_walk                 0.082045\n",
              "railroad_station_walk_km      0.082045\n",
              "railroad_station_walk_min     0.082045\n",
              "dtype: float64"
            ]
          },
          "metadata": {}
        }
      ]
    },
    {
      "cell_type": "markdown",
      "source": [
        "Итак, можно увидеть, что у нас большое число пропусков (более 47 %) в столбце hospital_beds_raion (количество больничных коек в округе).\n",
        "\n",
        "Далее у нас идут столбцы с числом пропусков чуть больше 20 %:\n",
        "\n",
        "preschool_quota (число мест в детском саду в районе);\n",
        "school_quota (число мест в школах в районе);\n",
        "life_sq (жилая площадь здания в квадратных метрах).\n",
        "Менее одного процента пропусков содержат признаки:\n",
        "\n",
        "floor (число этажей в доме);\n",
        "metro_min_walk (время от дома до ближайшего метро пешком в минутах);\n",
        "metro_km_walk (расстояние до ближайшего метро в километрах);\n",
        "railroad_station_walk_km (расстояние до ближайшей ж. д. станции в километрах);\n",
        "railroad_station_walk_min (время до ближайшей ж. д. станции пешком в минутах).\n",
        "Эти соотношения дают базовое понимание, какие дальнейшие преобразования со столбцами предстоит производить. Например, уже сейчас ясно, что столбец, в котором почти половина данных пропущена, не может дать нам полезной информации при прогнозировании. Если мы попытаемся его как-то исправить, мы можем только навредить и «нафантазировать» лишнего, поэтому от него, возможно, стоит избавиться. А вот столбцы с менее 1 % пропусков легко можно скорректировать: заполнить отсутствующие значения какими-то числами."
      ],
      "metadata": {
        "id": "srntI09IFgSv"
      }
    },
    {
      "cell_type": "markdown",
      "source": [
        "#СТОЛБЧАТАЯ ДИАГРАММА ПРОПУСКОВ"
      ],
      "metadata": {
        "id": "uM2NaVSSFtYg"
      }
    },
    {
      "cell_type": "markdown",
      "source": [
        "Иногда столбцов с пропусками становится слишком много и прочитать информацию о них из списка признаков с цифрами становится слишком затруднительно — цифры начинают сливаться воедино.\n",
        "\n",
        "Можно воспользоваться столбчатой диаграммой, чтобы визуально оценить соотношение числа пропусков к числу записей. Самый быстрый способ построить её — использовать метод plot():"
      ],
      "metadata": {
        "id": "pzi6jjSMFwxv"
      }
    },
    {
      "cell_type": "code",
      "source": [
        "cols_with_null.plot(\n",
        "    kind='bar',\n",
        "    figsize=(10, 5),\n",
        "    title='Распределение пропусков в данных'\n",
        ");\n"
      ],
      "metadata": {
        "id": "07adK4V0F0C2"
      },
      "execution_count": 78,
      "outputs": []
    },
    {
      "cell_type": "markdown",
      "source": [
        "На диаграмме мы видим те же соотношения, что и раньше, но представленные в удобном для визуального восприятия формате. Из неё отчётливо видно, что число пропусков в столбце hospital_beds_raion превышает 45 %. Также мы видим признаки с числом пропусков близ 0."
      ],
      "metadata": {
        "id": "P8Jm8r6KGI6U"
      }
    },
    {
      "cell_type": "markdown",
      "source": [
        "#ТЕПЛОВАЯ КАРТА ПРОПУСКОВ\n",
        "\n"
      ],
      "metadata": {
        "id": "yVVQvMw6GOhU"
      }
    },
    {
      "cell_type": "markdown",
      "source": [
        "Её часто используют, когда столбцов с пропусками не так много (меньше 10). Она позволяет понять не только соотношение пропусков в данных, но и их характерное местоположение в таблице.\n",
        "\n",
        "Для создания такой тепловой карты можно воспользоваться результатом метода isnull(). Ячейки таблицы, в которых есть пропуск, будем отмечать жёлтым цветом, а остальные — синим. Для этого создадим собственную палитру цветов тепловой карты с помощью метода color_pallete() из библиотеки seaborn."
      ],
      "metadata": {
        "id": "fz9pXmcCGVqK"
      }
    },
    {
      "cell_type": "code",
      "source": [
        "colors = ['blue', 'yellow']\n",
        "fig = plt.figure(figsize=(10, 4))\n",
        "cols = cols_with_null.index\n",
        "ax = sns.heatmap(\n",
        "    sber_data[cols].isnull(),\n",
        "    cmap=sns.color_palette(colors),\n",
        ")"
      ],
      "metadata": {
        "id": "bHJzBEDtGgEL"
      },
      "execution_count": 80,
      "outputs": []
    },
    {
      "cell_type": "markdown",
      "source": [
        "На полученной тепловой карте мы не видим чётких процентных соотношений для числа пропусков в данных, однако мы можем увидеть места их концентрации в таблице. Например, видно, что признаки preschool_quota и school_quota очень сильно связаны друг с другом по части пропусков: во всех записях, где хотя бы один не определён, не указан и второй (жёлтые линии для двух этих признаков полностью совпадают друг с другом)."
      ],
      "metadata": {
        "id": "SytuidCCGxT9"
      }
    },
    {
      "cell_type": "markdown",
      "source": [
        "#МЕТОДЫ ОБРАБОТКИ ПРОПУЩЕННЫХ ЗНАЧЕНИЙ"
      ],
      "metadata": {
        "id": "iUe0huEHG6R6"
      }
    },
    {
      "cell_type": "markdown",
      "source": [
        "Наибольшая сложность в очистке данных от пропусков заключается в выборе метода их обработки. Все методы, которые мы рассмотрим, по сути являются простыми эвристиками, без математического обоснования.\n",
        "\n",
        "Не существует общего решения проблемы с отсутствующими данными. Для каждого конкретного случая приходится подбирать наиболее подходящие методы или их комбинации. При этом каждая модель уникальна и часто предполагает случайность, поэтому невозможно предсказать заранее, какая комбинация методов сработает на ваших данных лучше всего."
      ],
      "metadata": {
        "id": "GqmOoe6XG7hc"
      }
    },
    {
      "cell_type": "markdown",
      "source": [
        "###ОТБРАСЫВАНИЕ ЗАПИСЕЙ И ПРИЗНАКОВ\n",
        "\n",
        "Первая техника — самая простая из всех. Она предполагает простое удаление записей или признаков, в которых содержатся пропуски.\n",
        "\n",
        "Здесь важно правильно выбрать ось удаления: если мы избавимся от большого числа строк, то рискуем потерять важные данные, а если мы удалим столбцы, то можем потерять важные признаки."
      ],
      "metadata": {
        "id": "jkWZ3bESHEZ4"
      }
    },
    {
      "cell_type": "markdown",
      "source": [
        "Прежде всего порассуждаем логически: в столбце hospital_beds_raion более 47 % пропусков. Если мы будем удалять все строки, в которых этот признак пропущен, мы потеряем почти половину наших данных!\n",
        "\n",
        "Правильнее будет просто удалить столбец, ведь число мест в районных больницах — это не самый информативный признак для определения цены квартиры.\n",
        "\n",
        "А вот если мы удалим весь столбец metro_km_walk, где менее 1 % пропусков, то потеряем полезный признак при формировании прогноза цены, ведь расстояние до ближайшего метро — это важный фактор при выборе квартиры. В данном случае лучше будет удалить сами записи.\n",
        "\n",
        "Специалисты рекомендуют при использовании метода удаления придерживаться следующих правил: удаляйте столбец, если число пропусков в нем более 30-40 %. В остальных случаях лучше удалять записи.\n",
        "\n",
        "Для удаления строк и столбцов будем использовать метод dropna(), который позволяет удалять пропуски с тонким подходом к настройке.\n",
        "Предварительно создадим копию исходной таблицы — drop_data, чтобы не повредить её. Зададимся порогом в 70 %: будем оставлять только те столбцы, в которых 70 и более процентов записей не являются пустыми . После этого удалим записи, в которых содержится хотя бы один пропуск. Наконец, выведем информацию о числе пропусков и наслаждаемся нулями."
      ],
      "metadata": {
        "id": "XKou38AnHUxs"
      }
    },
    {
      "cell_type": "code",
      "source": [
        "#создаем копию исходной таблицы\n",
        "drop_data = sber_data.copy()\n",
        "#задаем минимальный порог: вычисляем 70% от числа строк\n",
        "thresh = drop_data.shape[0]*0.7\n",
        "#удаляем столбцы, в которых более 30% (100-70) пропусков\n",
        "drop_data = drop_data.dropna(thresh=thresh, axis=1)#удаляем записи, в которых есть хотя бы 1 пропуск\n",
        "drop_data = drop_data.dropna(how='any', axis=0)\n",
        "#отображаем результирующую долю пропусков\n",
        "drop_data.isnull().mean()\n",
        "print(drop_data.shape)"
      ],
      "metadata": {
        "colab": {
          "base_uri": "https://localhost:8080/"
        },
        "id": "n4D4sTM5HaHS",
        "outputId": "ab195da6-e255-4e8e-fbd1-dbe957ef6662"
      },
      "execution_count": 81,
      "outputs": [
        {
          "output_type": "stream",
          "name": "stdout",
          "text": [
            "(20888, 60)\n"
          ]
        }
      ]
    },
    {
      "cell_type": "markdown",
      "source": [
        "###ЗАПОЛНЕНИЕ НЕДОСТАЮЩИХ ЗНАЧЕНИЙ КОНСТАНТАМИ"
      ],
      "metadata": {
        "id": "hkLzTVIeHjFU"
      }
    },
    {
      "cell_type": "markdown",
      "source": [
        "Чаще всего пустые места заполняют средним/медианой/модой для числовых признаков и модальным значением для категориальных признаков.\n",
        "Вся сложность заключается в выборе метода заполнения. Важным фактором при выборе метода является распределение признаков с пропусками. Давайте выведем их на экран.\n",
        "\n",
        "В pandas это можно сделать с помощью метода hist():"
      ],
      "metadata": {
        "id": "4tZzognZHkwV"
      }
    },
    {
      "cell_type": "code",
      "source": [
        "cols = cols_with_null.index\n",
        "sber_data[cols].hist(figsize=(20, 8));"
      ],
      "metadata": {
        "id": "f9S6quujHr8L"
      },
      "execution_count": 82,
      "outputs": []
    },
    {
      "cell_type": "markdown",
      "source": [
        "Для распределений, похожих на логнормальное, где пик близ нуля, а далее наблюдается постепенный спад частоты, высока вероятность наличия выбросов (о них мы поговорим чуть позже). Математически доказывается, что среднее очень чувствительно к выбросам, а вот медиана — нет. Поэтому предпочтительнее использовать медианное значение для таких признаков.\n",
        "Если признак числовой и дискретный (например, число этажей, школьная квота), то их заполнение средним/медианой является ошибочным, так как может получиться число, которое не может являться значением этого признака. Например, количество этажей — целочисленный признак, а расчёт среднего может дать 2.871. Поэтому такой признак заполняют либо модой, либо округляют до целого числа (или нужного количества знаков после запятой) среднее/медиану.\n",
        "Категориальные признаки заполняются либо модальным значением, либо, если вы хотите оставить информацию о пропуске в данных, значением 'unknown'. На наше счастье, пропусков в категориях у нас нет.\n",
        "Иногда в данных бывает такой признак, основываясь на котором, можно заполнить пропуски в другом. Например, в наших данных есть признак full_sq (общая площадь квартиры). Давайте исходить из предположения, что, если жилая площадь (life_sq) неизвестна, то она будет равна суммарной площади!\n",
        "Заполнение значений осуществляется с помощью метода fillna(). Главный параметр метода — value (значение, на которое происходит заполнение данных в столбце). Если метод вызывается от имени всего DataFrame, то в качестве value можно использовать словарь, где ключи — названия столбцов таблицы, а значения словаря — заполняющие константы.\n",
        "\n",
        "Создадим такой словарь, соблюдая рекомендации, приведённые выше, а также копию исходной таблицы. Произведём операцию заполнения с помощью метода fillna() и удостоверимся, что пропусков в данных больше нет:"
      ],
      "metadata": {
        "id": "vktp-cOWHzYq"
      }
    },
    {
      "cell_type": "code",
      "source": [
        "#создаем копию исходной таблицы\n",
        "fill_data = sber_data.copy()\n",
        "#создаем словарь имя столбца: число(признак) на который надо заменить пропуски\n",
        "values = {\n",
        "    'life_sq': fill_data['full_sq'],\n",
        "    'metro_min_walk': fill_data['metro_min_walk'].median(),\n",
        "    'metro_km_walk': fill_data['metro_km_walk'].median(),\n",
        "    'railroad_station_walk_km': fill_data['railroad_station_walk_km'].median(),\n",
        "    'railroad_station_walk_min': fill_data['railroad_station_walk_min'].median(),\n",
        "    'hospital_beds_raion': fill_data['hospital_beds_raion'].mode()[0],\n",
        "    'preschool_quota': fill_data['preschool_quota'].mode()[0],\n",
        "    'school_quota': fill_data['school_quota'].mode()[0],\n",
        "    'floor': fill_data['floor'].mode()[0]\n",
        "}\n",
        "#заполняем пропуски в соответствии с заявленным словарем\n",
        "fill_data = fill_data.fillna(values)\n",
        "#выводим результирующую долю пропусков\n",
        "fill_data.isnull().mean()"
      ],
      "metadata": {
        "id": "BSoKeoVNH0vc"
      },
      "execution_count": null,
      "outputs": []
    },
    {
      "cell_type": "markdown",
      "source": [
        "Посмотрим, на то, как изменились распределения наших признаков:"
      ],
      "metadata": {
        "id": "aLM-MnOWH4Xq"
      }
    },
    {
      "cell_type": "code",
      "source": [
        "cols = cols_with_null.index\n",
        "fill_data[cols].hist(figsize=(20, 8));"
      ],
      "metadata": {
        "colab": {
          "base_uri": "https://localhost:8080/"
        },
        "id": "Pgm4S5cFH7XM",
        "outputId": "6c6333df-c430-41a1-a724-00e39c7b6fe2"
      },
      "execution_count": 83,
      "outputs": [
        {
          "output_type": "stream",
          "name": "stderr",
          "text": [
            "/usr/local/lib/python3.10/dist-packages/pandas/plotting/_matplotlib/tools.py:227: RuntimeWarning: More than 20 figures have been opened. Figures created through the pyplot interface (`matplotlib.pyplot.figure`) are retained until explicitly closed and may consume too much memory. (To control this warning, see the rcParam `figure.max_open_warning`). Consider using `matplotlib.pyplot.close()`.\n",
            "  fig = plt.figure(**fig_kw)\n"
          ]
        }
      ]
    },
    {
      "cell_type": "markdown",
      "source": [
        "Видим, насколько сильно изменилось распределение для признака hospital_beds_raion. Это связано с тем, что мы заполнили модальным значением почти 47 % общих данных. В результате мы кардинально исказили исходное распределение признака, что может плохо сказаться на модели.\n",
        "\n",
        "Недостаток метода заполнения константой состоит в том, что мы можем «нафантазировать» новые данные, которые не учитывают истинного распределения."
      ],
      "metadata": {
        "id": "EY69nH9kIEUL"
      }
    },
    {
      "cell_type": "markdown",
      "source": [
        "###ЗАПОЛНЕНИЕ НЕДОСТАЮЩИХ ЗНАЧЕНИЙ КОНСТАНТАМИ С ДОБАВЛЕНИЕМ ИНДИКАТОРА"
      ],
      "metadata": {
        "id": "NlFUSIuUISrc"
      }
    },
    {
      "cell_type": "markdown",
      "source": [
        "Если мы используем заполнение пропусков константами, может быть, имеет смысл сказать модели о том, что на этом месте был пропуск?\n",
        "\n",
        "Давайте добавим к нашим данным признаки-индикаторы, которые будут сигнализировать о том, что в столбце на определённом месте в таблице был пропуск. Это место в столбце-индикаторе будем помечать как True.\n",
        "\n",
        "Эта эвристика пытается снизить влияние искажения признака, указав модели на места, где мы «нафантазировали» данные.\n",
        "Посмотрим на реализацию. Как обычно, создадим копию indicator_data исходной таблицы. В цикле пройдёмся по столбцам с пропусками и будем добавлять в таблицу новый признак (с припиской \"was_null\"), который получается из исходного с помощью применения метода isnull(). После чего произведём обычное заполнение пропусков, которое мы совершали ранее, и выведем на экран число отсутствующих значений в столбце, чтобы убедиться в результате:"
      ],
      "metadata": {
        "id": "XsFiN3WFIVEt"
      }
    },
    {
      "cell_type": "code",
      "source": [
        "#создаем копию исходной таблицы\n",
        "indicator_data = sber_data.copy()\n",
        "#в цикле пробегаемся по названиям столбцов с пропусками\n",
        "for col in cols_with_null.index:\n",
        "    #создаем новый признак-индикатор как col_was_null\n",
        "    indicator_data[col + '_was_null'] = indicator_data[col].isnull()\n",
        "#создаем словарь имя столбца: число(признак) на который надо заменить пропуски\n",
        "values = {\n",
        "    'life_sq': indicator_data['full_sq'],\n",
        "    'metro_min_walk': indicator_data['metro_min_walk'].median(),\n",
        "    'metro_km_walk': indicator_data['metro_km_walk'].median(),\n",
        "    'railroad_station_walk_km': indicator_data['railroad_station_walk_km'].median(),\n",
        "    'railroad_station_walk_min': indicator_data['railroad_station_walk_min'].median(),\n",
        "    'hospital_beds_raion': indicator_data['hospital_beds_raion'].mode()[0],\n",
        "    'preschool_quota': indicator_data['preschool_quota'].mode()[0],\n",
        "    'school_quota': indicator_data['school_quota'].mode()[0],\n",
        "    'floor': indicator_data['floor'].mode()[0]\n",
        "}\n",
        "#заполняем пропуски в соответствии с заявленным словарем\n",
        "indicator_data = indicator_data.fillna(values)\n",
        "#выводим результирующую долю пропусков\n",
        "indicator_data.isnull().mean()"
      ],
      "metadata": {
        "id": "kCthH_u-IcPG"
      },
      "execution_count": null,
      "outputs": []
    },
    {
      "cell_type": "markdown",
      "source": [
        "Метод исходит из предположения, что, если дать модели информацию о том, что в ячейке ранее была пустота, то она будет меньше доверять таким записям и меньше учитывать её в процессе обучения. Иногда такие фишки действительно работают, иногда не дают эффекта, а иногда и вовсе могут ухудшить результат обучения и затруднить процесс обучения.\n",
        "\n",
        "Когда мы добавляем признаки-индикаторы, мы повышаем размерность наших данных. Теперь представьте, что столбцов с пропусками сотня, по паре штук в каждом.\n",
        "\n",
        "Не нужно знать высшую математику, чтобы понять, что в таком случае мы увеличим размерность исходной таблицы ещё на сотню и 99 % строк этих столбцов будут заполнены нулями (False). При увеличении размерности в данных время обучения некоторых моделей растет экспоненциально — увеличив число признаков в два раза, вы увеличите время обучения в 7.38 раза! И при этом, возможно, даже не получите прироста в качестве.\n",
        "\n",
        "Более того, существует такое понятие, как проклятие размерности. Когда мы с вами будем обучать модели, мы будем искать глобальный минимум некоторой функции потерь. Размерность этой функции определяется числом признаков, на которых мы обучаем алгоритм.\n",
        "\n",
        "Проклятие размерности гласит, что, увеличивая размерность функции, мы повышаем сложность поиска этого минимума и рискуем вовсе не найти его! Об этом страшном проклятии мы ещё будем говорить в курсе по ML и даже попробуем его победить. Но об этом чуть позже.\n",
        "\n",
        "Однако, несмотря на свои недостатки, этот метод кажется наиболее логичным из предложенных ранее и часто используется в очистке данных."
      ],
      "metadata": {
        "id": "zWqZM3YGIff9"
      }
    },
    {
      "cell_type": "markdown",
      "source": [
        "### КОМБИНИРОВАНИЕ МЕТОДОВ"
      ],
      "metadata": {
        "id": "o8-M9oK4ImE5"
      }
    },
    {
      "cell_type": "markdown",
      "source": [
        "Например, мы можем:\n",
        "\n",
        "удалить столбцы, в которых более 30 % пропусков;\n",
        "удалить записи, в которых более двух пропусков одновременно;\n",
        "заполнить оставшиеся ячейки константами.\n",
        "Посмотрим на реализацию такого подхода в коде:"
      ],
      "metadata": {
        "id": "jyj5-qPmIpoX"
      }
    },
    {
      "cell_type": "code",
      "source": [
        "#создаём копию исходной таблицы\n",
        "combine_data = sber_data.copy()\n",
        "\n",
        "#отбрасываем столбцы с числом пропусков более 30% (100-70)\n",
        "n = combine_data.shape[0] #число строк в таблице\n",
        "thresh = n*0.7\n",
        "combine_data = combine_data.dropna(thresh=thresh, axis=1)\n",
        "\n",
        "#отбрасываем строки с числом пропусков более 2 в строке\n",
        "m = combine_data.shape[1] #число признаков после удаления столбцов\n",
        "combine_data = combine_data.dropna(thresh=m-2, axis=0)\n",
        "\n",
        "#создаём словарь 'имя_столбца': число (признак), на который надо заменить пропуски\n",
        "values = {\n",
        "    'life_sq': combine_data['full_sq'],\n",
        "    'metro_min_walk': combine_data['metro_min_walk'].median(),\n",
        "    'metro_km_walk': combine_data['metro_km_walk'].median(),\n",
        "    'railroad_station_walk_km': combine_data['railroad_station_walk_km'].median(),\n",
        "    'railroad_station_walk_min': combine_data['railroad_station_walk_min'].median(),\n",
        "    'preschool_quota': combine_data['preschool_quota'].mode()[0],\n",
        "    'school_quota': combine_data['school_quota'].mode()[0],\n",
        "    'floor': combine_data['floor'].mode()[0]\n",
        "}\n",
        "#заполняем оставшиеся записи константами в соответствии со словарем values\n",
        "combine_data = combine_data.fillna(values)\n",
        "#выводим результирующую долю пропусков\n",
        "display(combine_data.isnull().mean())\n",
        "print(combine_data.shape)"
      ],
      "metadata": {
        "colab": {
          "base_uri": "https://localhost:8080/",
          "height": 1000
        },
        "id": "TDLzIBONIxqZ",
        "outputId": "b0d089d0-4bb5-4ae7-dda7-62b546601d87"
      },
      "execution_count": 84,
      "outputs": [
        {
          "output_type": "display_data",
          "data": {
            "text/plain": [
              "id                                       0.0\n",
              "full_sq                                  0.0\n",
              "life_sq                                  0.0\n",
              "floor                                    0.0\n",
              "sub_area                                 0.0\n",
              "preschool_quota                          0.0\n",
              "preschool_education_centers_raion        0.0\n",
              "school_quota                             0.0\n",
              "school_education_centers_raion           0.0\n",
              "school_education_centers_top_20_raion    0.0\n",
              "healthcare_centers_raion                 0.0\n",
              "university_top_20_raion                  0.0\n",
              "sport_objects_raion                      0.0\n",
              "additional_education_raion               0.0\n",
              "culture_objects_top_25_raion             0.0\n",
              "shopping_centers_raion                   0.0\n",
              "office_raion                             0.0\n",
              "oil_chemistry_raion                      0.0\n",
              "railroad_terminal_raion                  0.0\n",
              "nuclear_reactor_raion                    0.0\n",
              "metro_min_avto                           0.0\n",
              "metro_km_avto                            0.0\n",
              "metro_min_walk                           0.0\n",
              "metro_km_walk                            0.0\n",
              "kindergarten_km                          0.0\n",
              "school_km                                0.0\n",
              "park_km                                  0.0\n",
              "green_zone_km                            0.0\n",
              "industrial_km                            0.0\n",
              "railroad_station_walk_km                 0.0\n",
              "railroad_station_walk_min                0.0\n",
              "public_transport_station_km              0.0\n",
              "public_transport_station_min_walk        0.0\n",
              "mkad_km                                  0.0\n",
              "ttk_km                                   0.0\n",
              "sadovoe_km                               0.0\n",
              "bulvar_ring_km                           0.0\n",
              "kremlin_km                               0.0\n",
              "big_road1_1line                          0.0\n",
              "big_market_km                            0.0\n",
              "market_shop_km                           0.0\n",
              "fitness_km                               0.0\n",
              "swim_pool_km                             0.0\n",
              "ice_rink_km                              0.0\n",
              "stadium_km                               0.0\n",
              "basketball_km                            0.0\n",
              "hospice_morgue_km                        0.0\n",
              "university_km                            0.0\n",
              "workplaces_km                            0.0\n",
              "shopping_centers_km                      0.0\n",
              "office_km                                0.0\n",
              "additional_education_km                  0.0\n",
              "preschool_km                             0.0\n",
              "big_church_km                            0.0\n",
              "church_synagogue_km                      0.0\n",
              "theater_km                               0.0\n",
              "museum_km                                0.0\n",
              "ecology                                  0.0\n",
              "mosque_count_1000                        0.0\n",
              "price_doc                                0.0\n",
              "dtype: float64"
            ]
          },
          "metadata": {}
        },
        {
          "output_type": "stream",
          "name": "stdout",
          "text": [
            "(26800, 60)\n"
          ]
        }
      ]
    },
    {
      "cell_type": "markdown",
      "source": [
        "Резюме: Если какой-то из признаков имеет более 30-40 % пропусков, лучше избавьтесь от него: его заполнение может привести к сильному искажению общего распределения, а удаление записей — к большой утрате данных. Однако если этот признак очень важен для прогнозирования, вам придётся поколдовать над ним, чтобы «заплатки», которыми вы закрываете пропуски, выглядели правдоподобно.\n",
        "Заполняйте данные с умом! Если перед вами количественный признак, то использование нецелого числа в качестве константы является как минимум нелогичным.\n",
        "Вы можете оставить пропуски как есть, просто заменив их на какой-то специальный символ. Например, для числовых неотрицательных признаков можно использовать число -1, а для категориальных — строку 'unknown'.\n",
        "Если вам позволяют сроки вашего проекта, попробуйте несколько кардинально разных подходов работы с пропусками."
      ],
      "metadata": {
        "id": "GwE97hW3JCBA"
      }
    },
    {
      "cell_type": "markdown",
      "source": [
        "Ещё одна типичная проблема для больших данных — это наличие в них выбросов.\n",
        "\n",
        "Что такое выброс? На самом деле строгого математического определения нет, но часто используют следующее:\n",
        "\n",
        "Выброс (аномалия) — это наблюдение, которое существенно выбивается из общего распределения и сильно отличается от других данных.\n",
        "\n",
        "Как вы сами видите, в этом определении не определены точные границы терминов «существенно» и «сильно». В этом и заключается сложность поиска выбросов: как нащупать ту грань, когда наблюдение можно считать выбросом? Однозначного ответа нет, однако мы рассмотрим некоторые методы, которые могут помочь приблизительно найти её.\n",
        "\n",
        "ПРИЧИНЫ ПОЯВЛЕНИЯ ВЫБРОСОВ\n",
        "\n",
        "Ошибка ввода данных. Как и с пропусками, здесь играет роль человеческий фактор. Ввести лишний «ноль» на клавиатуре и не заметить этого — нередкий случай.\n",
        "Ошибки отбора выборки. Когда начинающие специалисты составляют обучающую выборку для моделирования, они часто допускают ошибку, не выделив в отдельную группу часть данных. Типичный пример: смешать вместе данные об уровне жизни среднего класса, опрошенного на улице, и добавить туда людей из списка Forbes.\n",
        "Преднамеренное искажение или мошенничество. Пользователи приложения часто намеренно указывают неверные данные о себе. Например, прибавляют к своему возрасту лишнюю сотню лет, создавая головную боль дата-сайентистам.\n",
        "Существует множество способов определить потенциальные выбросы. Какие-то из них основаны на простой логике, какие-то на математике, а некоторые и вовсе являются эвристиками. Проблема заключается в том, что ни один из методов не даёт никаких гарантий, поэтому необходимо проверять их результаты. Более того, используя разные методы, вы можете получить различных кандидатов на выбросы."
      ],
      "metadata": {
        "id": "48_ahBkfJaFu"
      }
    },
    {
      "cell_type": "markdown",
      "source": [
        "#МЕТОД РУЧНОГО ПОИСКА И ЗДРАВОГО СМЫСЛА\n",
        "Это самый трудоёмкий метод, основанный на житейской логике, методе пристального взгляда и небольшом количестве статистики. Он предполагает поиск невозможных и нелогичных значений в данных.\n",
        "\n",
        "Пусть у нас есть признак, по которому мы будем искать выбросы. Давайте рассчитаем его статистические показатели (минимум, максимум, среднее, квантили) и по ним попробуем определить наличие аномалий.\n",
        "\n",
        "Сделать это можно с помощью уже знакомого вам метода describe(). Рассчитаем статистические показатели для признака жилой площади (life_sq)."
      ],
      "metadata": {
        "id": "cMqEFnn4JsDA"
      }
    },
    {
      "cell_type": "code",
      "source": [
        "sber_data['life_sq'].describe()"
      ],
      "metadata": {
        "colab": {
          "base_uri": "https://localhost:8080/"
        },
        "id": "-5267aPKJyiI",
        "outputId": "8392e297-1924-4117-98bd-d2dff083d97b"
      },
      "execution_count": 85,
      "outputs": [
        {
          "output_type": "execute_result",
          "data": {
            "text/plain": [
              "count    24088.000000\n",
              "mean        34.403271\n",
              "std         52.285733\n",
              "min          0.000000\n",
              "25%         20.000000\n",
              "50%         30.000000\n",
              "75%         43.000000\n",
              "max       7478.000000\n",
              "Name: life_sq, dtype: float64"
            ]
          },
          "metadata": {},
          "execution_count": 85
        }
      ]
    },
    {
      "cell_type": "markdown",
      "source": [
        "Во-первых, у нас есть квартиры с нулевой жилой площадью. Во-вторых, в то время как 75-й квантиль равен 43, максимум превышает 7 тысяч квадратных метров (целый дворец, а не квартира!).\n",
        "\n",
        "Найдём число квартир с нулевой жилой площадью:"
      ],
      "metadata": {
        "id": "1tgChpAJJ5W0"
      }
    },
    {
      "cell_type": "code",
      "source": [
        "print(sber_data[sber_data['life_sq'] == 0].shape[0])"
      ],
      "metadata": {
        "colab": {
          "base_uri": "https://localhost:8080/"
        },
        "id": "wWucZvUsJ-gx",
        "outputId": "d099be4f-e796-4496-a45a-a6d396ab46bf"
      },
      "execution_count": 86,
      "outputs": [
        {
          "output_type": "stream",
          "name": "stdout",
          "text": [
            "45\n"
          ]
        }
      ]
    },
    {
      "cell_type": "markdown",
      "source": [
        "Таких помещений оказывается 45 штук.\n",
        "\n",
        "Это могут быть апартаменты — вид коммерческой недвижимости, которая юридически не является жилой площадью, но законно продаётся по ценам, сопоставимым с квартирными. Оставим их в покое.     \n",
        "\n",
        "А теперь выведем здания с жилой площадью более 7 000 квадратных метров:"
      ],
      "metadata": {
        "id": "PrFcmpfpJ_jK"
      }
    },
    {
      "cell_type": "code",
      "source": [
        "display(sber_data[sber_data['life_sq'] > 7000])"
      ],
      "metadata": {
        "colab": {
          "base_uri": "https://localhost:8080/",
          "height": 147
        },
        "id": "d13c2EokKFzE",
        "outputId": "bb4fd0e7-db5a-4310-9540-22490eaf01fd"
      },
      "execution_count": 87,
      "outputs": [
        {
          "output_type": "display_data",
          "data": {
            "text/plain": [
              "          id  full_sq  life_sq  floor                 sub_area  \\\n",
              "13546  13549       79   7478.0    8.0  Poselenie Voskresenskoe   \n",
              "\n",
              "       preschool_quota  preschool_education_centers_raion  school_quota  \\\n",
              "13546              NaN                                  0           NaN   \n",
              "\n",
              "       school_education_centers_raion  school_education_centers_top_20_raion  \\\n",
              "13546                               0                                      0   \n",
              "\n",
              "       ...  office_km  additional_education_km  preschool_km  big_church_km  \\\n",
              "13546  ...   5.072389                 1.210613      0.826052       1.582378   \n",
              "\n",
              "       church_synagogue_km  theater_km  museum_km  ecology mosque_count_1000  \\\n",
              "13546             0.756119   21.472421  14.917332  no data                 0   \n",
              "\n",
              "      price_doc  \n",
              "13546   7705000  \n",
              "\n",
              "[1 rows x 61 columns]"
            ],
            "text/html": [
              "\n",
              "  <div id=\"df-16518435-8133-41d6-b0a4-b1d85539e6db\" class=\"colab-df-container\">\n",
              "    <div>\n",
              "<style scoped>\n",
              "    .dataframe tbody tr th:only-of-type {\n",
              "        vertical-align: middle;\n",
              "    }\n",
              "\n",
              "    .dataframe tbody tr th {\n",
              "        vertical-align: top;\n",
              "    }\n",
              "\n",
              "    .dataframe thead th {\n",
              "        text-align: right;\n",
              "    }\n",
              "</style>\n",
              "<table border=\"1\" class=\"dataframe\">\n",
              "  <thead>\n",
              "    <tr style=\"text-align: right;\">\n",
              "      <th></th>\n",
              "      <th>id</th>\n",
              "      <th>full_sq</th>\n",
              "      <th>life_sq</th>\n",
              "      <th>floor</th>\n",
              "      <th>sub_area</th>\n",
              "      <th>preschool_quota</th>\n",
              "      <th>preschool_education_centers_raion</th>\n",
              "      <th>school_quota</th>\n",
              "      <th>school_education_centers_raion</th>\n",
              "      <th>school_education_centers_top_20_raion</th>\n",
              "      <th>...</th>\n",
              "      <th>office_km</th>\n",
              "      <th>additional_education_km</th>\n",
              "      <th>preschool_km</th>\n",
              "      <th>big_church_km</th>\n",
              "      <th>church_synagogue_km</th>\n",
              "      <th>theater_km</th>\n",
              "      <th>museum_km</th>\n",
              "      <th>ecology</th>\n",
              "      <th>mosque_count_1000</th>\n",
              "      <th>price_doc</th>\n",
              "    </tr>\n",
              "  </thead>\n",
              "  <tbody>\n",
              "    <tr>\n",
              "      <th>13546</th>\n",
              "      <td>13549</td>\n",
              "      <td>79</td>\n",
              "      <td>7478.0</td>\n",
              "      <td>8.0</td>\n",
              "      <td>Poselenie Voskresenskoe</td>\n",
              "      <td>NaN</td>\n",
              "      <td>0</td>\n",
              "      <td>NaN</td>\n",
              "      <td>0</td>\n",
              "      <td>0</td>\n",
              "      <td>...</td>\n",
              "      <td>5.072389</td>\n",
              "      <td>1.210613</td>\n",
              "      <td>0.826052</td>\n",
              "      <td>1.582378</td>\n",
              "      <td>0.756119</td>\n",
              "      <td>21.472421</td>\n",
              "      <td>14.917332</td>\n",
              "      <td>no data</td>\n",
              "      <td>0</td>\n",
              "      <td>7705000</td>\n",
              "    </tr>\n",
              "  </tbody>\n",
              "</table>\n",
              "<p>1 rows × 61 columns</p>\n",
              "</div>\n",
              "    <div class=\"colab-df-buttons\">\n",
              "\n",
              "  <div class=\"colab-df-container\">\n",
              "    <button class=\"colab-df-convert\" onclick=\"convertToInteractive('df-16518435-8133-41d6-b0a4-b1d85539e6db')\"\n",
              "            title=\"Convert this dataframe to an interactive table.\"\n",
              "            style=\"display:none;\">\n",
              "\n",
              "  <svg xmlns=\"http://www.w3.org/2000/svg\" height=\"24px\" viewBox=\"0 -960 960 960\">\n",
              "    <path d=\"M120-120v-720h720v720H120Zm60-500h600v-160H180v160Zm220 220h160v-160H400v160Zm0 220h160v-160H400v160ZM180-400h160v-160H180v160Zm440 0h160v-160H620v160ZM180-180h160v-160H180v160Zm440 0h160v-160H620v160Z\"/>\n",
              "  </svg>\n",
              "    </button>\n",
              "\n",
              "  <style>\n",
              "    .colab-df-container {\n",
              "      display:flex;\n",
              "      gap: 12px;\n",
              "    }\n",
              "\n",
              "    .colab-df-convert {\n",
              "      background-color: #E8F0FE;\n",
              "      border: none;\n",
              "      border-radius: 50%;\n",
              "      cursor: pointer;\n",
              "      display: none;\n",
              "      fill: #1967D2;\n",
              "      height: 32px;\n",
              "      padding: 0 0 0 0;\n",
              "      width: 32px;\n",
              "    }\n",
              "\n",
              "    .colab-df-convert:hover {\n",
              "      background-color: #E2EBFA;\n",
              "      box-shadow: 0px 1px 2px rgba(60, 64, 67, 0.3), 0px 1px 3px 1px rgba(60, 64, 67, 0.15);\n",
              "      fill: #174EA6;\n",
              "    }\n",
              "\n",
              "    .colab-df-buttons div {\n",
              "      margin-bottom: 4px;\n",
              "    }\n",
              "\n",
              "    [theme=dark] .colab-df-convert {\n",
              "      background-color: #3B4455;\n",
              "      fill: #D2E3FC;\n",
              "    }\n",
              "\n",
              "    [theme=dark] .colab-df-convert:hover {\n",
              "      background-color: #434B5C;\n",
              "      box-shadow: 0px 1px 3px 1px rgba(0, 0, 0, 0.15);\n",
              "      filter: drop-shadow(0px 1px 2px rgba(0, 0, 0, 0.3));\n",
              "      fill: #FFFFFF;\n",
              "    }\n",
              "  </style>\n",
              "\n",
              "    <script>\n",
              "      const buttonEl =\n",
              "        document.querySelector('#df-16518435-8133-41d6-b0a4-b1d85539e6db button.colab-df-convert');\n",
              "      buttonEl.style.display =\n",
              "        google.colab.kernel.accessAllowed ? 'block' : 'none';\n",
              "\n",
              "      async function convertToInteractive(key) {\n",
              "        const element = document.querySelector('#df-16518435-8133-41d6-b0a4-b1d85539e6db');\n",
              "        const dataTable =\n",
              "          await google.colab.kernel.invokeFunction('convertToInteractive',\n",
              "                                                    [key], {});\n",
              "        if (!dataTable) return;\n",
              "\n",
              "        const docLinkHtml = 'Like what you see? Visit the ' +\n",
              "          '<a target=\"_blank\" href=https://colab.research.google.com/notebooks/data_table.ipynb>data table notebook</a>'\n",
              "          + ' to learn more about interactive tables.';\n",
              "        element.innerHTML = '';\n",
              "        dataTable['output_type'] = 'display_data';\n",
              "        await google.colab.output.renderOutput(dataTable, element);\n",
              "        const docLink = document.createElement('div');\n",
              "        docLink.innerHTML = docLinkHtml;\n",
              "        element.appendChild(docLink);\n",
              "      }\n",
              "    </script>\n",
              "  </div>\n",
              "\n",
              "    </div>\n",
              "  </div>\n"
            ]
          },
          "metadata": {}
        }
      ]
    },
    {
      "cell_type": "markdown",
      "source": [
        "Выброс налицо: гигантская жилая площадь (life_sq), да ещё почти в 100 раз превышает общую площадь (full_sq).\n",
        "\n",
        "?\n",
        "Логичен вопрос: а много ли у нас таких квартир, у которых жилая площадь больше, чем суммарная?\n",
        "\n",
        "Давайте проверим это с помощью фильтрации:"
      ],
      "metadata": {
        "id": "jcPYZsYXKLO2"
      }
    },
    {
      "cell_type": "code",
      "source": [
        "outliers = sber_data[sber_data['life_sq'] > sber_data['full_sq']]\n",
        "print(outliers.shape[0])"
      ],
      "metadata": {
        "colab": {
          "base_uri": "https://localhost:8080/"
        },
        "id": "Cl_qI6YAKMS9",
        "outputId": "3ea60ca0-e061-40ca-f64d-3bd8f704e12f"
      },
      "execution_count": 88,
      "outputs": [
        {
          "output_type": "stream",
          "name": "stdout",
          "text": [
            "37\n"
          ]
        }
      ]
    },
    {
      "cell_type": "markdown",
      "source": [
        "Таких квартир оказывается 37 штук. Подобные наблюдения уже не поддаются здравому смыслу — они являются ошибочными, и от них стоит избавиться. Для этого можно воспользоваться методом drop() и удалить записи по их индексам:"
      ],
      "metadata": {
        "id": "7Mnul4STKO_v"
      }
    },
    {
      "cell_type": "code",
      "source": [
        "cleaned = sber_data.drop(outliers.index, axis=0)\n",
        "print(f'Результирующее число записей: {cleaned.shape[0]}')"
      ],
      "metadata": {
        "colab": {
          "base_uri": "https://localhost:8080/"
        },
        "id": "LzcLXEnPKRcU",
        "outputId": "2031f1ee-2a62-48fd-f9fb-c930efe1c926"
      },
      "execution_count": 89,
      "outputs": [
        {
          "output_type": "stream",
          "name": "stdout",
          "text": [
            "Результирующее число записей: 30434\n"
          ]
        }
      ]
    },
    {
      "cell_type": "markdown",
      "source": [
        "Посмотрим на признак числа этажей (floor)."
      ],
      "metadata": {
        "id": "wHZiPGDvKX_k"
      }
    },
    {
      "cell_type": "code",
      "source": [
        "display(sber_data['floor'].describe())"
      ],
      "metadata": {
        "colab": {
          "base_uri": "https://localhost:8080/",
          "height": 173
        },
        "id": "Zvcr0BB8KadY",
        "outputId": "5d27bfee-d65e-422c-b971-f73d1c3e215e"
      },
      "execution_count": 90,
      "outputs": [
        {
          "output_type": "display_data",
          "data": {
            "text/plain": [
              "count    30304.000000\n",
              "mean         7.670803\n",
              "std          5.319989\n",
              "min          0.000000\n",
              "25%          3.000000\n",
              "50%          6.500000\n",
              "75%         11.000000\n",
              "max         77.000000\n",
              "Name: floor, dtype: float64"
            ]
          },
          "metadata": {}
        }
      ]
    },
    {
      "cell_type": "markdown",
      "source": [
        "Снова видим подозрительную максимальную отметку в 77 этажей. Проверим все квартиры, которые находятся выше 50 этажей:"
      ],
      "metadata": {
        "id": "SKEwgkYVKeJ3"
      }
    },
    {
      "cell_type": "code",
      "source": [
        "display(sber_data[sber_data['floor']> 50])"
      ],
      "metadata": {
        "colab": {
          "base_uri": "https://localhost:8080/",
          "height": 130
        },
        "id": "y1YYSopnKhUU",
        "outputId": "0155beb2-f179-4f8a-ca2c-e08408f84de5"
      },
      "execution_count": 91,
      "outputs": [
        {
          "output_type": "display_data",
          "data": {
            "text/plain": [
              "          id  full_sq  life_sq  floor       sub_area  preschool_quota  \\\n",
              "23584  23587       57     33.0   77.0  Lomonosovskoe           3091.0   \n",
              "\n",
              "       preschool_education_centers_raion  school_quota  \\\n",
              "23584                                  5        8359.0   \n",
              "\n",
              "       school_education_centers_raion  school_education_centers_top_20_raion  \\\n",
              "23584                               7                                      1   \n",
              "\n",
              "       ...  office_km  additional_education_km  preschool_km  big_church_km  \\\n",
              "23584  ...   0.310557                 0.731683      0.489763        0.86354   \n",
              "\n",
              "       church_synagogue_km  theater_km  museum_km       ecology  \\\n",
              "23584             0.863266    2.920671   2.757058  satisfactory   \n",
              "\n",
              "      mosque_count_1000 price_doc  \n",
              "23584                 0  13700000  \n",
              "\n",
              "[1 rows x 61 columns]"
            ],
            "text/html": [
              "\n",
              "  <div id=\"df-82d99e83-977e-4f1c-82cb-ff133e6b2819\" class=\"colab-df-container\">\n",
              "    <div>\n",
              "<style scoped>\n",
              "    .dataframe tbody tr th:only-of-type {\n",
              "        vertical-align: middle;\n",
              "    }\n",
              "\n",
              "    .dataframe tbody tr th {\n",
              "        vertical-align: top;\n",
              "    }\n",
              "\n",
              "    .dataframe thead th {\n",
              "        text-align: right;\n",
              "    }\n",
              "</style>\n",
              "<table border=\"1\" class=\"dataframe\">\n",
              "  <thead>\n",
              "    <tr style=\"text-align: right;\">\n",
              "      <th></th>\n",
              "      <th>id</th>\n",
              "      <th>full_sq</th>\n",
              "      <th>life_sq</th>\n",
              "      <th>floor</th>\n",
              "      <th>sub_area</th>\n",
              "      <th>preschool_quota</th>\n",
              "      <th>preschool_education_centers_raion</th>\n",
              "      <th>school_quota</th>\n",
              "      <th>school_education_centers_raion</th>\n",
              "      <th>school_education_centers_top_20_raion</th>\n",
              "      <th>...</th>\n",
              "      <th>office_km</th>\n",
              "      <th>additional_education_km</th>\n",
              "      <th>preschool_km</th>\n",
              "      <th>big_church_km</th>\n",
              "      <th>church_synagogue_km</th>\n",
              "      <th>theater_km</th>\n",
              "      <th>museum_km</th>\n",
              "      <th>ecology</th>\n",
              "      <th>mosque_count_1000</th>\n",
              "      <th>price_doc</th>\n",
              "    </tr>\n",
              "  </thead>\n",
              "  <tbody>\n",
              "    <tr>\n",
              "      <th>23584</th>\n",
              "      <td>23587</td>\n",
              "      <td>57</td>\n",
              "      <td>33.0</td>\n",
              "      <td>77.0</td>\n",
              "      <td>Lomonosovskoe</td>\n",
              "      <td>3091.0</td>\n",
              "      <td>5</td>\n",
              "      <td>8359.0</td>\n",
              "      <td>7</td>\n",
              "      <td>1</td>\n",
              "      <td>...</td>\n",
              "      <td>0.310557</td>\n",
              "      <td>0.731683</td>\n",
              "      <td>0.489763</td>\n",
              "      <td>0.86354</td>\n",
              "      <td>0.863266</td>\n",
              "      <td>2.920671</td>\n",
              "      <td>2.757058</td>\n",
              "      <td>satisfactory</td>\n",
              "      <td>0</td>\n",
              "      <td>13700000</td>\n",
              "    </tr>\n",
              "  </tbody>\n",
              "</table>\n",
              "<p>1 rows × 61 columns</p>\n",
              "</div>\n",
              "    <div class=\"colab-df-buttons\">\n",
              "\n",
              "  <div class=\"colab-df-container\">\n",
              "    <button class=\"colab-df-convert\" onclick=\"convertToInteractive('df-82d99e83-977e-4f1c-82cb-ff133e6b2819')\"\n",
              "            title=\"Convert this dataframe to an interactive table.\"\n",
              "            style=\"display:none;\">\n",
              "\n",
              "  <svg xmlns=\"http://www.w3.org/2000/svg\" height=\"24px\" viewBox=\"0 -960 960 960\">\n",
              "    <path d=\"M120-120v-720h720v720H120Zm60-500h600v-160H180v160Zm220 220h160v-160H400v160Zm0 220h160v-160H400v160ZM180-400h160v-160H180v160Zm440 0h160v-160H620v160ZM180-180h160v-160H180v160Zm440 0h160v-160H620v160Z\"/>\n",
              "  </svg>\n",
              "    </button>\n",
              "\n",
              "  <style>\n",
              "    .colab-df-container {\n",
              "      display:flex;\n",
              "      gap: 12px;\n",
              "    }\n",
              "\n",
              "    .colab-df-convert {\n",
              "      background-color: #E8F0FE;\n",
              "      border: none;\n",
              "      border-radius: 50%;\n",
              "      cursor: pointer;\n",
              "      display: none;\n",
              "      fill: #1967D2;\n",
              "      height: 32px;\n",
              "      padding: 0 0 0 0;\n",
              "      width: 32px;\n",
              "    }\n",
              "\n",
              "    .colab-df-convert:hover {\n",
              "      background-color: #E2EBFA;\n",
              "      box-shadow: 0px 1px 2px rgba(60, 64, 67, 0.3), 0px 1px 3px 1px rgba(60, 64, 67, 0.15);\n",
              "      fill: #174EA6;\n",
              "    }\n",
              "\n",
              "    .colab-df-buttons div {\n",
              "      margin-bottom: 4px;\n",
              "    }\n",
              "\n",
              "    [theme=dark] .colab-df-convert {\n",
              "      background-color: #3B4455;\n",
              "      fill: #D2E3FC;\n",
              "    }\n",
              "\n",
              "    [theme=dark] .colab-df-convert:hover {\n",
              "      background-color: #434B5C;\n",
              "      box-shadow: 0px 1px 3px 1px rgba(0, 0, 0, 0.15);\n",
              "      filter: drop-shadow(0px 1px 2px rgba(0, 0, 0, 0.3));\n",
              "      fill: #FFFFFF;\n",
              "    }\n",
              "  </style>\n",
              "\n",
              "    <script>\n",
              "      const buttonEl =\n",
              "        document.querySelector('#df-82d99e83-977e-4f1c-82cb-ff133e6b2819 button.colab-df-convert');\n",
              "      buttonEl.style.display =\n",
              "        google.colab.kernel.accessAllowed ? 'block' : 'none';\n",
              "\n",
              "      async function convertToInteractive(key) {\n",
              "        const element = document.querySelector('#df-82d99e83-977e-4f1c-82cb-ff133e6b2819');\n",
              "        const dataTable =\n",
              "          await google.colab.kernel.invokeFunction('convertToInteractive',\n",
              "                                                    [key], {});\n",
              "        if (!dataTable) return;\n",
              "\n",
              "        const docLinkHtml = 'Like what you see? Visit the ' +\n",
              "          '<a target=\"_blank\" href=https://colab.research.google.com/notebooks/data_table.ipynb>data table notebook</a>'\n",
              "          + ' to learn more about interactive tables.';\n",
              "        element.innerHTML = '';\n",
              "        dataTable['output_type'] = 'display_data';\n",
              "        await google.colab.output.renderOutput(dataTable, element);\n",
              "        const docLink = document.createElement('div');\n",
              "        docLink.innerHTML = docLinkHtml;\n",
              "        element.appendChild(docLink);\n",
              "      }\n",
              "    </script>\n",
              "  </div>\n",
              "\n",
              "    </div>\n",
              "  </div>\n"
            ]
          },
          "metadata": {}
        }
      ]
    },
    {
      "cell_type": "markdown",
      "source": [
        "Убеждаемся в том, что здания выше 70 этажей находятся на территории комплекса Москва-Сити (Пресненский район). В Ломоносовском районе таких жилых высоток нет. Получается, что данное наблюдение — выброс."
      ],
      "metadata": {
        "id": "PNVa48MYKp86"
      }
    },
    {
      "cell_type": "markdown",
      "source": [
        "#МЕТОД МЕЖКВАРТИЛЬНОГО РАЗМАХА (МЕТОД ТЬЮКИ)"
      ],
      "metadata": {
        "id": "HiZWPEe8KrXB"
      }
    },
    {
      "cell_type": "markdown",
      "source": [
        "Отличным помощником в поиске потенциальных выбросов является визуализация. Если признак является числовым, то можно построить гистограмму или коробчатую диаграмму, чтобы найти аномалии.\n",
        "\n",
        "На гистограмме мы можем увидеть потенциальные выбросы как низкие далеко отстоящие от основной группы столбцов «пеньки», а на коробчатой диаграмме — точки за пределами усов.\n",
        "\n",
        "✍️ Построим гистограмму и коробчатую диаграмму для признака полной площади (full_sq):"
      ],
      "metadata": {
        "id": "GgKrW1PLKxaM"
      }
    },
    {
      "cell_type": "code",
      "source": [
        "fig, axes = plt.subplots(nrows=1, ncols=2, figsize=(15, 4))\n",
        "histplot = sns.histplot(data=sber_data, x='full_sq', ax=axes[0]);\n",
        "histplot.set_title('Full Square Distribution');\n",
        "boxplot = sns.boxplot(data=sber_data, x='full_sq', ax=axes[1]);\n",
        "boxplot.set_title('Full Square Boxplot');"
      ],
      "metadata": {
        "id": "Is9aG6A-KyaC"
      },
      "execution_count": 92,
      "outputs": []
    },
    {
      "cell_type": "markdown",
      "source": [
        "Гистограмма, реализованная в seaborn, автоматически выбирает число столбцов, необходимое для наилучшей визуализации распределения. Когда признак содержит выбивающиеся значения, число столбцов становится очень велико и в итоге получается такая «кракозябра».\n",
        "\n",
        "По этой же причине получается сплюснутая под весом выбросов коробчатая диаграмма. Она помогает более чётко увидеть потенциальные аномалии, которые находятся за пределами усов (1.5 межквартильных размаха).\n",
        "\n",
        "Основная масса квартир имеет общую площадь менее 250 квадратных метров, и лишь несколько невзрачных наблюдений выбиваются из этого интервала. Максимальная площадь, судя по гистограмме, превышает 5 000 квадратных метров.\n",
        "\n",
        "\n",
        "Визуализация помогает определить наличие выбросов. Для того чтобы их найти, можно воспользоваться статистическими подходами.\n",
        "\n",
        "Одним из таких подходов является метод межквартильного размаха (его еще называют методом Тьюки), который используется для построения коробчатой диаграммы.\n",
        "\n",
        "В соответствии с этим алгоритмом напишем функцию outliers_iqr(). Эта функция принимает на вход DataFrame и признак, по которому ищутся выбросы, а затем возвращает потенциальные выбросы, найденные с помощью метода Тьюки, и очищенный от них датасет.\n",
        "\n",
        "Квантили вычисляются с помощью метода quantile(). Потенциальные выбросы определяются при помощи фильтрации данных по условию выхода за пределы верхней или нижней границы."
      ],
      "metadata": {
        "id": "1v-QPP5aK1gE"
      }
    },
    {
      "cell_type": "code",
      "source": [
        "def outliers_iqr(data, feature):\n",
        "    x = data[feature]\n",
        "    quartile_1, quartile_3 = x.quantile(0.25), x.quantile(0.75),\n",
        "    iqr = quartile_3 - quartile_1\n",
        "    lower_bound = quartile_1 - (iqr * 1.5)\n",
        "    upper_bound = quartile_3 + (iqr * 1.5)\n",
        "    outliers = data[(x < lower_bound) | (x > upper_bound)]\n",
        "    cleaned = data[(x >= lower_bound) & (x <= upper_bound)]\n",
        "    return outliers, cleaned"
      ],
      "metadata": {
        "id": "1G74QWOaLCM0"
      },
      "execution_count": 93,
      "outputs": []
    },
    {
      "cell_type": "markdown",
      "source": [
        "Применим эту функцию к таблице sber_data и признаку full_sq, а также выведем размерности результатов:"
      ],
      "metadata": {
        "id": "6NB07BkNLFLN"
      }
    },
    {
      "cell_type": "code",
      "source": [
        "outliers, cleaned = outliers_iqr(sber_data, 'full_sq')\n",
        "print(f'Число выбросов по методу Тьюки: {outliers.shape[0]}')\n",
        "print(f'Результирующее число записей: {cleaned.shape[0]}')"
      ],
      "metadata": {
        "colab": {
          "base_uri": "https://localhost:8080/"
        },
        "id": "Rcn60uR6LHn4",
        "outputId": "e55e3c34-075e-4c35-d886-a9b0e8fecc1a"
      },
      "execution_count": 94,
      "outputs": [
        {
          "output_type": "stream",
          "name": "stdout",
          "text": [
            "Число выбросов по методу Тьюки: 963\n",
            "Результирующее число записей: 29508\n"
          ]
        }
      ]
    },
    {
      "cell_type": "markdown",
      "source": [
        "Согласно классическому методу Тьюки, под выбросы у нас попали 963 записи в таблице. Давайте построим гистограмму и коробчатую диаграмму на новых данных cleaned_sber_data:"
      ],
      "metadata": {
        "id": "8wjoHUm0LMjl"
      }
    },
    {
      "cell_type": "code",
      "source": [
        "fig, axes = plt.subplots(nrows=1, ncols=2, figsize=(15, 4))\n",
        "histplot = sns.histplot(data=cleaned, x='full_sq', ax=axes[0]);\n",
        "histplot.set_title('Cleaned Full Square Distribution');\n",
        "boxplot = sns.boxplot(data=cleaned, x='full_sq', ax=axes[1]);\n",
        "boxplot.set_title('Cleaned Full Square Boxplot');"
      ],
      "metadata": {
        "id": "Zcmeba9TLPK9"
      },
      "execution_count": 95,
      "outputs": []
    },
    {
      "cell_type": "markdown",
      "source": [],
      "metadata": {
        "id": "Nth1nZwMNh8Z"
      }
    },
    {
      "cell_type": "markdown",
      "source": [
        "Если присмотреться, то коробчатая диаграмма всё ещё продолжает говорить, что в данных есть одиночные выбросы с обеих сторон от границ. К тому же у нас сильно урезался диапазон жилой площади — максимальная площадь составляет около 100 кв. м.\n",
        "\n",
        "Причина кроется в том, что после удаления выбросов квартили рассчитываются заново по новым данным, и так оказалось, что из-за свойств распределения были снова найдены точки, которые считаются выбросами.\n",
        "\n",
        "Классический метод межквартильного размаха не учитывает особенностей распределения! Он требует, чтобы данные были распределены плюс-минус нормально (гистограмма должна быть похожа на колокол) и требует от распределения примерной симметричности (чтобы у гистограммы были одинаковые хвосты в обе стороны).\n",
        "\n",
        "У нас же распределение (даже после отсечения выбросов) отличается от заявленных критериев. Оно несимметрично: правый хвост изначального распределения гораздо длиннее левого (для Москвы вполне естественны квартиры с площадью свыше 100 квадратных метров) и вовсе не колоколообразно. Попросту говоря, выбор метода поиска не оправдал себя."
      ],
      "metadata": {
        "id": "a6LjQrDqLco6"
      }
    },
    {
      "cell_type": "markdown",
      "source": [
        "Немного модифицируем функцию outliers_iqr(data, feature). Добавьте в неё параметры left и right, которые задают число IQR влево и вправо от границ ящика (пусть по умолчанию они равны 1.5). Функция, как и раньше, должна возвращать потенциальные выбросы и очищенный DataFrame."
      ],
      "metadata": {
        "id": "TqgMleYoLpFq"
      }
    },
    {
      "cell_type": "code",
      "source": [
        "def outliers_iqr_mod(data, feature, left=1.5, right=1.5):\n",
        "    x = data[feature]\n",
        "    quartile_1, quartile_3 = x.quantile(0.25), x.quantile(0.75),\n",
        "    iqr = quartile_3 - quartile_1\n",
        "    lower_bound = quartile_1 - (iqr * left)\n",
        "    upper_bound = quartile_3 + (iqr * right)\n",
        "    outliers = data[(x<lower_bound) | (x> upper_bound)]\n",
        "    cleaned = data[(x>lower_bound) & (x < upper_bound)]\n",
        "    return outliers, cleaned\n",
        "print(len(outliers))"
      ],
      "metadata": {
        "colab": {
          "base_uri": "https://localhost:8080/"
        },
        "id": "2qsjwryCLPX9",
        "outputId": "7267a4fa-a40f-4788-8900-38c79e2dbdaf"
      },
      "execution_count": 128,
      "outputs": [
        {
          "output_type": "stream",
          "name": "stdout",
          "text": [
            "963\n"
          ]
        }
      ]
    },
    {
      "cell_type": "markdown",
      "source": [
        "Давайте ослабим границы метода Тьюки справа и усилим их влево. Примените модифицированную функцию outliers_iqr_mod() к признаку full_sq из таблицы sber_data данным с параметрами left=1 и right=6. Результаты работы поместите в переменные outliers и cleaned. Чему равно результирующее число выбросов в данных?"
      ],
      "metadata": {
        "id": "MG30PCbXL0rL"
      }
    },
    {
      "cell_type": "code",
      "source": [
        "def outliers_iqr_mod(data, feature, left=1, right=6):\n",
        "    x = data[feature]\n",
        "    quartile_1, quartile_3 = x.quantile(0.25), x.quantile(0.75),\n",
        "    iqr = quartile_3 - quartile_1\n",
        "    lower_bound = quartile_1 - (iqr * left)\n",
        "    upper_bound = quartile_3 + (iqr * right)\n",
        "    outliers = data[(x<lower_bound) | (x> upper_bound)]\n",
        "    cleaned = data[(x>lower_bound) & (x < upper_bound)]\n",
        "    return outliers, cleaned\n",
        "outliers, cleaned = outliers_iqr_mod(sber_data, 'full_sq', left=1, right=6)\n",
        "print(f'Число выбросов по методу Тьюки: {outliers.shape[0]}')\n",
        "print(f'Результирующее число записей: {cleaned.shape[0]}')"
      ],
      "metadata": {
        "colab": {
          "base_uri": "https://localhost:8080/"
        },
        "id": "Nb_3hhZkL6-n",
        "outputId": "3ee525eb-b4a0-41a1-aecf-124783acbe0c"
      },
      "execution_count": 131,
      "outputs": [
        {
          "output_type": "stream",
          "name": "stdout",
          "text": [
            "Число выбросов по методу Тьюки: 59\n",
            "Результирующее число записей: 30403\n"
          ]
        }
      ]
    },
    {
      "cell_type": "markdown",
      "source": [
        "Если мы построим гистограмму и коробчатую диаграмму на полученных данных, то увидим вот такую картинку:"
      ],
      "metadata": {
        "id": "keXcXvawPpGY"
      }
    },
    {
      "cell_type": "code",
      "source": [
        "fig, axes = plt.subplots(nrows=1, ncols=2, figsize=(15, 4))\n",
        "histplot = sns.histplot(data=cleaned, x='full_sq', ax=axes[0]);\n",
        "histplot.set_title('Cleaned Full Square Distribution');\n",
        "boxplot = sns.boxplot(data=cleaned, x='full_sq', ax=axes[1]);\n",
        "boxplot.set_title('Cleaned Full Square Boxplot');"
      ],
      "metadata": {
        "id": "jzwrxuroPuuA"
      },
      "execution_count": 132,
      "outputs": []
    },
    {
      "cell_type": "markdown",
      "source": [
        "#МЕТОД Z-ОТКЛОНЕНИЙ (МЕТОД СИГМ)"
      ],
      "metadata": {
        "id": "Qby2T3zIP145"
      }
    },
    {
      "cell_type": "markdown",
      "source": [
        "Правило трёх сигм гласит: если распределение данных является нормальным, то 99,73 % лежат в интервале от , где   (мю) — математическое ожидание (для выборки это среднее значение), а  (сигма) — стандартное отклонение. Наблюдения, которые лежат за пределами этого интервала, будут считаться выбросами.\n",
        "А что делать, если данные не распределены нормально?\n",
        "\n",
        "На такой случай есть один трюк. Иногда для распределений, похожих на логнормальное, может помочь логарифмирование. Оно может привести исходное распределение к подобию нормального. Причем, основание логарифма может быть любым.\n",
        "\n",
        "✍️ Рассмотрим логарифмирование на примере.\n",
        "\n",
        "Построим две гистограммы признака расстояния до МКАД (mkad_km): первая — в обычном масштабе, а вторая — в логарифмическом. Логарифмировать будем с помощью функции log() из библиотеки numpy (натуральный логарифм — логарифм по основанию числа e). Признак имеет среди своих значений 0. Из математики известно, что логарифма от 0 не существует, поэтому мы прибавляем к нашему признаку 1, чтобы не логарифмировать нули и не получать предупреждения."
      ],
      "metadata": {
        "id": "DQkGG_P0P3RD"
      }
    },
    {
      "cell_type": "code",
      "source": [
        "fig, axes = plt.subplots(1, 2, figsize=(15, 4))\n",
        "\n",
        "#гистограмма исходного признака\n",
        "histplot = sns.histplot(sber_data['mkad_km'], bins=30, ax=axes[0])\n",
        "histplot.set_title('MKAD Km Distribution');\n",
        "\n",
        "#гистограмма в логарифмическом масштабе\n",
        "log_mkad_km= np.log(sber_data['mkad_km'] + 1)\n",
        "histplot = sns.histplot(log_mkad_km , bins=30, ax=axes[1])\n",
        "histplot.set_title('Log MKAD Km Distribution');"
      ],
      "metadata": {
        "id": "f1SNuyMAQA02"
      },
      "execution_count": 133,
      "outputs": []
    },
    {
      "cell_type": "markdown",
      "source": [
        "Что мы тут видим?\n",
        "\n",
        "Левое распределение напоминает логнормальное распределение с наличием потенциальных выбросов-«пеньков», далеко отстоящих от основной массы наблюдений.\n",
        "\n",
        "Взяв натуральный логарифм от левого распределения, мы получаем правое, которое напоминает слегка перекошенное нормальное. Слева от моды (самого высокого столбика) наблюдается чуть больше наблюдений, нежели справа. По-научному это будет звучать так: «распределение имеет левостороннюю асимметрию»."
      ],
      "metadata": {
        "id": "E5kUWaQ3QHyT"
      }
    },
    {
      "cell_type": "code",
      "source": [
        "print(log_mkad_km.skew())"
      ],
      "metadata": {
        "colab": {
          "base_uri": "https://localhost:8080/"
        },
        "id": "3qqMMMFdQI_6",
        "outputId": "069ac932-68ec-47c8-e07e-c3e7e9fa02b0"
      },
      "execution_count": 134,
      "outputs": [
        {
          "output_type": "stream",
          "name": "stdout",
          "text": [
            "-0.14263612203024953\n"
          ]
        }
      ]
    },
    {
      "cell_type": "markdown",
      "source": [
        "Напишем функцию outliers_z_score(), которая реализует этот алгоритм.\n",
        "\n",
        "На вход она принимает DataFrame и признак, по которому ищутся выбросы. В дополнение добавим в функцию возможность работы в логарифмическом масштабе: для этого введём аргумент log_scale. Если он равен True, то будем логарифмировать рассматриваемый признак, иначе — оставляем его в исходном виде.\n",
        "\n",
        "Как и раньше, функция будет возвращать выбросы и очищенные от них данные:"
      ],
      "metadata": {
        "id": "lnGEwQkNQM4C"
      }
    },
    {
      "cell_type": "code",
      "source": [
        "def outliers_z_score(data, feature, log_scale=False):\n",
        "    if log_scale:\n",
        "        x = np.log(data[feature]+1)\n",
        "    else:\n",
        "        x = data[feature]\n",
        "    mu = x.mean()\n",
        "    sigma = x.std()\n",
        "    lower_bound = mu - 3 * sigma\n",
        "    upper_bound = mu + 3 * sigma\n",
        "    outliers = data[(x < lower_bound) | (x > upper_bound)]\n",
        "    cleaned = data[(x >= lower_bound) & (x <= upper_bound)]\n",
        "    return outliers, cleaned"
      ],
      "metadata": {
        "id": "d2LtB8icQRvF"
      },
      "execution_count": 135,
      "outputs": []
    },
    {
      "cell_type": "markdown",
      "source": [
        "Применим эту функцию к таблице sber_data и признаку mkad_km, а также выведем размерности результатов:"
      ],
      "metadata": {
        "id": "lhK-PMvnQUyV"
      }
    },
    {
      "cell_type": "code",
      "source": [
        "outliers, cleaned = outliers_z_score(sber_data, 'mkad_km', log_scale=True)\n",
        "print(f'Число выбросов по методу z-отклонения: {outliers.shape[0]}')\n",
        "print(f'Результирующее число записей: {cleaned.shape[0]}')"
      ],
      "metadata": {
        "colab": {
          "base_uri": "https://localhost:8080/"
        },
        "id": "ytxOseOOQXzO",
        "outputId": "8d1d341e-aae6-4ad9-d933-afa35531022b"
      },
      "execution_count": 136,
      "outputs": [
        {
          "output_type": "stream",
          "name": "stdout",
          "text": [
            "Число выбросов по методу z-отклонения: 33\n",
            "Результирующее число записей: 30438\n"
          ]
        }
      ]
    },
    {
      "cell_type": "markdown",
      "source": [
        "Итак, метод z-отклонения нашел нам 33 потенциальных выброса по признаку расстояния до МКАД. Давайте узнаем, в каких районах (sub_area) представлены эти квартиры:"
      ],
      "metadata": {
        "id": "_EgC1pfmQdg1"
      }
    },
    {
      "cell_type": "code",
      "source": [
        "print(outliers['sub_area'].unique())"
      ],
      "metadata": {
        "colab": {
          "base_uri": "https://localhost:8080/"
        },
        "id": "eG-bYrr4QeXj",
        "outputId": "d0d61c22-88e1-4ef4-d1a3-5a7d1c5edab0"
      },
      "execution_count": 137,
      "outputs": [
        {
          "output_type": "stream",
          "name": "stdout",
          "text": [
            "['Poselenie Rogovskoe' 'Poselenie Kievskij']\n"
          ]
        }
      ]
    },
    {
      "cell_type": "markdown",
      "source": [
        "Наши потенциальные выбросы — это квартиры из поселений «Роговское» и «Киевский». Снова обращаемся к силе интернета и «пробиваем» наших подозреваемых. Эти поселения — самые удалённые районы Москвы; первое из них — это и вовсе граница с Калужской областью.\n",
        "\n",
        "?\n",
        "И тут возникает закономерный вопрос: а стоит ли считать такие наблюдения за выбросы?\n",
        "\n",
        "Вопрос в действительности не имеет определенного ответа: с одной стороны, метод прямо-таки говорит нам об этом, а с другой — эти наблюдения имеют право на существование, ведь они являются частью Москвы.\n",
        "\n",
        "✏️ Возможно, мы не учли того факта, что наш логарифм распределения всё-таки не идеально нормален и в нём присутствует некоторая асимметрия. Возможно, стоит дать некоторое «послабление» на границы интервалов? Давайте отдельно построим гистограмму прологарифмированного распределения, а также отобразим на гистограмме вертикальные линии, соответствующие среднему (центру интервала в методе трёх сигм) и границы интервала . Вертикальные линии можно построить с помощью метода axvline(). Для среднего линия будет обычной, а для границ интервала — пунктирной (параметр ls ='--'):"
      ],
      "metadata": {
        "id": "iPT0VxrmQg5B"
      }
    },
    {
      "cell_type": "code",
      "source": [
        "fig, ax = plt.subplots(1, 1, figsize=(8, 4))\n",
        "log_mkad_km = np.log(sber_data['mkad_km'] + 1)\n",
        "histplot = sns.histplot(log_mkad_km, bins=30, ax=ax)\n",
        "histplot.axvline(log_mkad_km.mean(), color='k', lw=2)\n",
        "histplot.axvline(log_mkad_km.mean()+ 3 * log_mkad_km.std(), color='k', ls='--', lw=2)\n",
        "histplot.axvline(log_mkad_km.mean()- 3 * log_mkad_km.std(), color='k', ls='--', lw=2)\n",
        "histplot.set_title('Log MKAD Km Distribution');"
      ],
      "metadata": {
        "id": "6ppEasEZQpur"
      },
      "execution_count": 138,
      "outputs": []
    },
    {
      "cell_type": "markdown",
      "source": [
        "Итак, мы графически построили интервал метода трёх сигм поверх нашего распределения. Он показывает, какие наблюдения мы берём в интервал, а какие считаем выбросами. Легко заметить, что среднее значение (жирная вертикальная линия) находится левее моды. Это свойство распределений с левосторонней асимметрией. Также видны наблюдения, которые мы не захватили своим интервалом (небольшой «пенёк» правее верхней границы) — это и есть наши квартиры из поселений «Роговское» и «Киевский». Очевидно, что если немного (меньше чем на одну сигму) «сдвинуть» верхнюю границу вправо, то мы захватим эти наблюдения."
      ],
      "metadata": {
        "id": "FIZP4GJhQwi5"
      }
    },
    {
      "cell_type": "code",
      "source": [
        "# Введите свое решение ниже\n",
        "import pandas as pd\n",
        "import numpy as np\n",
        "def outliers_z_score_mod(data, feature, left=3, right=3.5, log_scale=True):\n",
        "    if log_scale:\n",
        "        x = np.log(data[feature]+1)\n",
        "    else:\n",
        "        x = data[feature]\n",
        "    mu = x.mean()\n",
        "    sigma = x.std()\n",
        "    lower_bound = mu - left * sigma\n",
        "    upper_bound = mu + right * sigma\n",
        "    outliers = data[(x < lower_bound) | (x > upper_bound)]\n",
        "    cleaned = data[(x >= lower_bound) & (x <= upper_bound)]\n",
        "    return outliers, cleaned\n",
        "\n",
        "outliers_z_score_mod(sber_data, feature='mkad_km', left=3, right=3.5, log_scale=True)\n"
      ],
      "metadata": {
        "colab": {
          "base_uri": "https://localhost:8080/"
        },
        "id": "TyKeZxkDVx38",
        "outputId": "3cbf0176-b190-418c-8b28-8ea06e4b1358"
      },
      "execution_count": 153,
      "outputs": [
        {
          "output_type": "execute_result",
          "data": {
            "text/plain": [
              "(Empty DataFrame\n",
              " Columns: [id, full_sq, life_sq, floor, sub_area, preschool_quota, preschool_education_centers_raion, school_quota, school_education_centers_raion, school_education_centers_top_20_raion, hospital_beds_raion, healthcare_centers_raion, university_top_20_raion, sport_objects_raion, additional_education_raion, culture_objects_top_25_raion, shopping_centers_raion, office_raion, oil_chemistry_raion, railroad_terminal_raion, nuclear_reactor_raion, metro_min_avto, metro_km_avto, metro_min_walk, metro_km_walk, kindergarten_km, school_km, park_km, green_zone_km, industrial_km, railroad_station_walk_km, railroad_station_walk_min, public_transport_station_km, public_transport_station_min_walk, mkad_km, ttk_km, sadovoe_km, bulvar_ring_km, kremlin_km, big_road1_1line, big_market_km, market_shop_km, fitness_km, swim_pool_km, ice_rink_km, stadium_km, basketball_km, hospice_morgue_km, university_km, workplaces_km, shopping_centers_km, office_km, additional_education_km, preschool_km, big_church_km, church_synagogue_km, theater_km, museum_km, ecology, mosque_count_1000, price_doc]\n",
              " Index: []\n",
              " \n",
              " [0 rows x 61 columns],\n",
              "           id  full_sq  life_sq  floor              sub_area  preschool_quota  \\\n",
              " 0          1       43     27.0    4.0              Bibirevo           5001.0   \n",
              " 1          2       34     19.0    3.0     Nagatinskij Zaton           3119.0   \n",
              " 2          3       43     29.0    2.0        Tekstil'shhiki           1463.0   \n",
              " 3          4       89     50.0    9.0                Mitino           6839.0   \n",
              " 4          5       77     77.0    4.0             Basmannoe           3240.0   \n",
              " ...      ...      ...      ...    ...                   ...              ...   \n",
              " 30466  30469       44     27.0    7.0              Otradnoe           5088.0   \n",
              " 30467  30470       86     59.0    3.0              Tverskoe           1874.0   \n",
              " 30468  30471       45      NaN   10.0  Poselenie Vnukovskoe              NaN   \n",
              " 30469  30472       64     32.0    5.0          Obruchevskoe           2372.0   \n",
              " 30470  30473       43     28.0    1.0           Novogireevo           2215.0   \n",
              " \n",
              "        preschool_education_centers_raion  school_quota  \\\n",
              " 0                                      5       11065.0   \n",
              " 1                                      5        6237.0   \n",
              " 2                                      4        5580.0   \n",
              " 3                                      9       17063.0   \n",
              " 4                                      7        7770.0   \n",
              " ...                                  ...           ...   \n",
              " 30466                                  4       12721.0   \n",
              " 30467                                  4        6772.0   \n",
              " 30468                                  0           NaN   \n",
              " 30469                                  6        6083.0   \n",
              " 30470                                  4        5824.0   \n",
              " \n",
              "        school_education_centers_raion  school_education_centers_top_20_raion  \\\n",
              " 0                                   5                                      0   \n",
              " 1                                   8                                      0   \n",
              " 2                                   7                                      0   \n",
              " 3                                  10                                      0   \n",
              " 4                                   9                                      0   \n",
              " ...                               ...                                    ...   \n",
              " 30466                               4                                      0   \n",
              " 30467                               4                                      1   \n",
              " 30468                               0                                      0   \n",
              " 30469                               8                                      0   \n",
              " 30470                               4                                      0   \n",
              " \n",
              "        ...  office_km  additional_education_km  preschool_km  big_church_km  \\\n",
              " 0      ...   0.637189                 0.947962      0.177975       0.625783   \n",
              " 1      ...   0.688796                 1.072315      0.273345       0.967821   \n",
              " 2      ...   1.543049                 0.391957      0.158072       3.178751   \n",
              " 3      ...   0.934273                 0.892674      0.236455       1.031777   \n",
              " 4      ...   0.077901                 0.810801      0.376838       0.378756   \n",
              " ...    ...        ...                      ...           ...            ...   \n",
              " 30466  ...   1.103579                 0.167718      0.349899       1.235066   \n",
              " 30467  ...   0.069986                 0.086552      0.362681       0.850385   \n",
              " 30468  ...   4.338453                 1.339078      1.234235       1.192543   \n",
              " 30469  ...   1.204798                 1.340017      0.130667       1.644053   \n",
              " 30470  ...   2.108265                 0.825811      0.378950       0.480531   \n",
              " \n",
              "        church_synagogue_km  theater_km  museum_km       ecology  \\\n",
              " 0                 0.628187   14.053047   7.389498          good   \n",
              " 1                 0.471447    6.829889   0.709260     excellent   \n",
              " 2                 0.755946    4.273200   3.156423          poor   \n",
              " 3                 1.561505   16.990677  16.041521          good   \n",
              " 4                 0.121681    1.112486   1.800125     excellent   \n",
              " ...                    ...         ...        ...           ...   \n",
              " 30466             0.612359    7.482165   4.836787          good   \n",
              " 30467             0.310021    0.778428   1.450108          poor   \n",
              " 30468             1.186621   13.459593   9.890758       no data   \n",
              " 30469             0.476021    2.088193   4.119706  satisfactory   \n",
              " 30470             0.867332    0.688707   0.127867          poor   \n",
              " \n",
              "       mosque_count_1000 price_doc  \n",
              " 0                     0   5850000  \n",
              " 1                     0   6000000  \n",
              " 2                     0   5700000  \n",
              " 3                     0  13100000  \n",
              " 4                     0  16331452  \n",
              " ...                 ...       ...  \n",
              " 30466                 0   7400000  \n",
              " 30467                 0  25000000  \n",
              " 30468                 0   6970959  \n",
              " 30469                 0  13500000  \n",
              " 30470                 0   5600000  \n",
              " \n",
              " [30471 rows x 61 columns])"
            ]
          },
          "metadata": {},
          "execution_count": 153
        }
      ]
    },
    {
      "cell_type": "markdown",
      "source": [
        "Стоило нам немного увеличить правую границу метода z-отклонений, как мы получили отсутствие выбросов в признаке. Давать ли такие «послабления» или нет — это ваше решение и полностью зависит от специфики задачи, однако вы можете пользоваться этим трюком, чтобы более тщательно подходить к поиску аномалий."
      ],
      "metadata": {
        "id": "VDh2orMTW-_1"
      }
    },
    {
      "cell_type": "markdown",
      "source": [
        "Метод ручного поиска тяжело автоматизировать, однако вы сами организовываете проверки, следите за процессом отсеивания выбросов и руководствуетесь не только статистикой, но и здравым смыслом. К тому же из всех представленных только этот метод способен выявить логические нестыковки в данных (например, общая площадь меньше жилой или число этажей более 77 в районе, где нет таких зданий). Обычно этот метод используется в комплексе с другими, чтобы удостовериться в том, что найденные данные действительно являются выбросами, и произвести логическую очистку, на которую неспособны другие методы.\n",
        "Методы межквартильного размаха и z-отклонений довольно просты в реализации и основаны на стройной математической теории, а не на эвристиках. Но это их преимущество и недостаток. Оба метода разработаны для данных, распределённых приблизительно нормально. Проблема в том, что далеко не всё в мире имеет нормальное распределение. Необходимо внимательно «рыться» в данных, совершать дополнительные преобразования, чтобы привести их хотя бы к подобию нормального распределения, либо подбирать границы методов, чтобы учитывать особенности распределений. В противном случае методы начинают считать выбросами всё, что не вписывается в жёсткие границы, и вы рискуете лишиться важных данных! Учитывайте это в своей работе и всегда проверяйте результаты.\n",
        "\n",
        "#ДРУГИЕ МЕТОДЫ ПОИСКА ВЫБРОСОВ\n",
        "\n",
        "Конечно, наука о данных не ограничивается тремя методами. Скажем даже больше: в машинном обучении есть отдельная активно развивающаяся подобласть, именуемая Outliers (Anomaly) Detection. Она включает в себя большое количество методов для поиска аномалий в совершенно различных видах данных: от временных рядов до географических данных. Специалисты этой области обучают целые модели, которые помогают отыскать выбросы в данных.\n",
        "\n",
        "Мы рассмотрели самые простые, но очень распространённые методы поиска выбросов, главный недостаток которых состоит в том, что они основываются на информации только по одному признаку. Для глубокого поиска аномалий могут применяться методы, которые используют информацию обо всех признаках.\n",
        "\n",
        "Например, для поиска аномалий часто используется метод кластеризации DBSCAN. Метод пытается объединить данные в группы (кластеры), например: квартиры низкого, среднего и премиального класса, опираясь на все признаки. Всё, что не попало ни в какой из кластеров, помечается как выброс (шум).\n"
      ],
      "metadata": {
        "id": "WXzmBnDHXE2v"
      }
    },
    {
      "cell_type": "code",
      "source": [
        "fig, ax = plt.subplots(1, 1, figsize=(8, 4))\n",
        "log_price = np.log(sber_data['price_doc'])\n",
        "histplot = sns.histplot(log_price, bins=30, ax=ax)\n",
        "histplot.set_title('Log Price Distribution');\n",
        "histplot.axvline(log_price.mean(), color='k', lw=2)\n",
        "histplot.axvline(log_price.mean()+ 3 * log_price.std(), color='k', ls='--', lw=2)\n",
        "histplot.axvline(log_price.mean()- 3 * log_price.std(), color='k', ls='--', lw=2);"
      ],
      "metadata": {
        "id": "CS8TK1TvYj-m"
      },
      "execution_count": 159,
      "outputs": []
    },
    {
      "cell_type": "markdown",
      "source": [
        "Найдите потенциальные выбросы по признаку price_doc с помощью метода z-отклонения. Используйте логарифмический масштаб распределения. Сделайте «послабление» на 0.7 сигм в обе стороны распределения. Сколько выбросов вы получили?"
      ],
      "metadata": {
        "id": "LpOpMFUkXc-C"
      }
    },
    {
      "cell_type": "code",
      "source": [
        "outliers, cleaned = outliers_z_score_mod(sber_data, 'price_doc', left=3.7, right=3.7, log_scale=True)\n",
        "print(f'Число выбросов по методу z-отклонения: {outliers.shape[0]}')"
      ],
      "metadata": {
        "colab": {
          "base_uri": "https://localhost:8080/"
        },
        "id": "n9Q7qhQEXXLZ",
        "outputId": "d0cea956-680e-4583-acd3-e4846f98da9c"
      },
      "execution_count": 145,
      "outputs": [
        {
          "output_type": "stream",
          "name": "stdout",
          "text": [
            "Число выбросов по методу z-отклонения: 52\n"
          ]
        }
      ]
    },
    {
      "cell_type": "markdown",
      "source": [
        "Добавьте фишку с логарифмированием в свою функцию outliers_iqr_mod(). Добавьте в неё параметр log_scale. Если он выставлен в True, то производится логарифмирование признака. Примените полученную функцию к признаку price_doc. Число межквартильных размахов в обе стороны обозначьте как 3. Чему равно число выбросов, полученных таким методом?\n",
        "\n",
        "При логарифмировании признака price_doc добавлять к нему 1 не нужно, он не имеет нулевых значений!"
      ],
      "metadata": {
        "id": "DgLsSscpZ5FF"
      }
    },
    {
      "cell_type": "code",
      "source": [
        "def outliers_iqr_mod(data, feature, left=1.5, right=1.5, log_scale=False):\n",
        "    if log_scale:\n",
        "        x = np.log(data[feature])\n",
        "    else:\n",
        "        x= data[feature]\n",
        "    quartile_1, quartile_3 = x.quantile(0.25), x.quantile(0.75),\n",
        "    iqr = quartile_3 - quartile_1\n",
        "    lower_bound = quartile_1 - (iqr * left)\n",
        "    upper_bound = quartile_3 + (iqr * right)\n",
        "    outliers = data[(x < lower_bound) | (x > upper_bound)]\n",
        "    cleaned = data[(x >= lower_bound) & (x <= upper_bound)]\n",
        "    return outliers, cleaned\n",
        "outliers, cleaned = outliers_iqr_mod(sber_data, 'price_doc', left=3, right=3, log_scale=True)\n",
        "print(f'Число выбросов по методу Тьюки: {outliers.shape[0]}')"
      ],
      "metadata": {
        "colab": {
          "base_uri": "https://localhost:8080/"
        },
        "id": "useoFAoUZodz",
        "outputId": "a68bdf85-e1ea-40cd-e524-5a16a59849ac"
      },
      "execution_count": 160,
      "outputs": [
        {
          "output_type": "stream",
          "name": "stdout",
          "text": [
            "Число выбросов по методу Тьюки: 92\n"
          ]
        }
      ]
    },
    {
      "cell_type": "markdown",
      "source": [
        "#ОБНАРУЖЕНИЕ И ЛИКВИДАЦИЯ ДУБЛИКАТОВ\n",
        "\n",
        "Способ обнаружения дубликатов зависит от того, что именно вы считаете дубликатом. Например, за дубликаты можно посчитать записи, у которых совпадают все признаки или их часть. Если в таблице есть столбец с уникальным идентификатором (id), вы можете попробовать поискать дубликаты по нему: одинаковые записи могут иметь одинаковый id.\n",
        "\n",
        "✍️ Проверим, есть у нас такие записи: для этого сравним число уникальных значений в столбце id с числом строк. Число уникальных значений вычислим с помощью метода nunique():"
      ],
      "metadata": {
        "id": "dNt8uHFmZ3PL"
      }
    },
    {
      "cell_type": "code",
      "source": [
        "sber_data['id'].nunique() == sber_data.shape[0]"
      ],
      "metadata": {
        "colab": {
          "base_uri": "https://localhost:8080/"
        },
        "id": "AGAkcbU8aQec",
        "outputId": "d1255e31-77e7-4f35-b485-2b5b3410f243"
      },
      "execution_count": 161,
      "outputs": [
        {
          "output_type": "execute_result",
          "data": {
            "text/plain": [
              "True"
            ]
          },
          "metadata": {},
          "execution_count": 161
        }
      ]
    },
    {
      "cell_type": "markdown",
      "source": [
        "Вроде бы всё в порядке: каждой записи в таблице соответствует свой уникальный идентификатор. Но это ещё не означает, что в таблице нет дубликатов!\n",
        "\n",
        "Столбец с id задаёт каждой строке свой уникальный номер, поэтому сама по себе каждая строка является уникальной. Однако содержимое других столбцов может повторяться.\n",
        "\n",
        "Чтобы отследить дубликаты, можно воспользоваться методом duplicated(), который возвращает булеву маску для фильтрации. Для записей, у которых совпадают признаки, переданные методу, он возвращает True, для остальных — False.\n",
        "\n",
        "У метода есть параметр subset — список признаков, по которым производится поиск дубликатов. По умолчанию используются все столбцы в DataFrame и ищутся полные дубликаты.\n",
        "\n",
        "✍️ Найдём число полных дубликатов таблице sber_data. Предварительно создадим список столбцов dupl_columns, по которым будем искать совпадения (все столбцы, не включая id).\n",
        "\n",
        "Создадим маску дубликатов с помощью метода duplicated() и произведём фильтрацию. Результат заносим в переменную sber_duplicates. Выведем число строк в результирующем DataFrame:"
      ],
      "metadata": {
        "id": "92hDoJmdaUbb"
      }
    },
    {
      "cell_type": "code",
      "source": [
        "dupl_columns = list(sber_data.columns)\n",
        "dupl_columns.remove('id')\n",
        "\n",
        "mask = sber_data.duplicated(subset=dupl_columns)\n",
        "sber_duplicates = sber_data[mask]\n",
        "print(f'Число найденных дубликатов: {sber_duplicates.shape[0]}')"
      ],
      "metadata": {
        "colab": {
          "base_uri": "https://localhost:8080/"
        },
        "id": "mY_bsXvAaeg4",
        "outputId": "0354b230-45bc-4d49-befb-5ba52127e1c9"
      },
      "execution_count": 162,
      "outputs": [
        {
          "output_type": "stream",
          "name": "stdout",
          "text": [
            "Число найденных дубликатов: 562\n"
          ]
        }
      ]
    },
    {
      "cell_type": "markdown",
      "source": [
        "еперь нам необходимо от них избавиться. Для этого легче всего воспользоваться методом drop_duplicates(), который удаляет повторяющиеся записи из таблицы.\n",
        "\n",
        "✍️ Создадим новую таблицу sber_dedupped, которая будет версией исходной таблицы, очищенной от полных дубликатов."
      ],
      "metadata": {
        "id": "QQ168gm_a4aK"
      }
    },
    {
      "cell_type": "code",
      "source": [
        "sber_dedupped = sber_data.drop_duplicates(subset=dupl_columns)\n",
        "print(f'Результирующее число записей: {sber_dedupped.shape[0]}')"
      ],
      "metadata": {
        "colab": {
          "base_uri": "https://localhost:8080/"
        },
        "id": "N9Jf3m7Ma5XV",
        "outputId": "7909835f-006b-4bc6-d16b-1ee89583e9b4"
      },
      "execution_count": 165,
      "outputs": [
        {
          "output_type": "stream",
          "name": "stdout",
          "text": [
            "Результирующее число записей: 29909\n"
          ]
        }
      ]
    },
    {
      "cell_type": "markdown",
      "source": [
        "#ОБНАРУЖЕНИЕ И ЛИКВИДАЦИЯ НЕИНФОРМАТИВНЫХ ПРИЗНАКОВ\n",
        "\n",
        "Чтобы считать признак неинформативным, прежде всего нужно задать какой-то определённый порог. Например, часто используют пороги в 0.95 и 0.99. Это означает: признак неинформативен, если в нем 95 % (99 %) одинаковых значений или же 95 % (99 %) данных полностью уникальны.\n",
        "\n",
        "Разберём алгоритм:\n",
        "\n",
        "→ Создаём пустой список low_information_cols, куда будем добавлять названия признаков, которые мы посчитаем неинформативными.\n",
        "\n",
        "→ В цикле пройдёмся по всем именам столбцов в таблице и для каждого будем совершать следующие действия:\n",
        "\n",
        "рассчитаем top_freq — наибольшую относительную частоту с помощью метода value_counts() с параметром normalize=True. Метод вернёт долю от общих данных, которую занимает каждое уникальное значение в признаке.\n",
        "Отсюда нам нужен максимум.\n",
        "\n",
        "Рассчитаем nunique_ratio — отношение числа уникальных значений в столбце к размеру всего столбца. Число уникальных значений в столбце получим с помощью метода nunique(), а размер признака — с помощью метода count(). Например, для столбца id число уникальных значений — 30471; оно же равно размеру таблицы. Поэтому результат отношения будет 1.\n",
        "сравним каждое из полученных чисел с пороговым значением (у нас это 0.95) и добавим в список неинформативных признаков, если условие истинно."
      ],
      "metadata": {
        "id": "bEIMzkMOa_r1"
      }
    },
    {
      "cell_type": "code",
      "source": [
        "#список неинформативных признаков\n",
        "low_information_cols = []\n",
        "\n",
        "#цикл по всем столбцам\n",
        "for col in sber_data.columns:\n",
        "    #наибольшая относительная частота в признаке\n",
        "    top_freq = sber_data[col].value_counts(normalize=True).max()\n",
        "    #доля уникальных значений от размера признака\n",
        "    nunique_ratio = sber_data[col].nunique() / sber_data[col].count()\n",
        "    # сравниваем наибольшую частоту с порогом\n",
        "    if top_freq > 0.95:\n",
        "        low_information_cols.append(col)\n",
        "        print(f'{col}: {round(top_freq*100, 2)}% одинаковых значений')\n",
        "    # сравниваем долю уникальных значений с порогом\n",
        "    if nunique_ratio > 0.95:\n",
        "        low_information_cols.append(col)\n",
        "        print(f'{col}: {round(nunique_ratio*100, 2)}% уникальных значений')"
      ],
      "metadata": {
        "colab": {
          "base_uri": "https://localhost:8080/"
        },
        "id": "3LJZEGCzbexC",
        "outputId": "0f3c56ca-529c-40f1-f01c-a4f8ef76f0eb"
      },
      "execution_count": 166,
      "outputs": [
        {
          "output_type": "stream",
          "name": "stdout",
          "text": [
            "id: 100.0% уникальных значений\n",
            "oil_chemistry_raion: 99.03% одинаковых значений\n",
            "railroad_terminal_raion: 96.27% одинаковых значений\n",
            "nuclear_reactor_raion: 97.17% одинаковых значений\n",
            "big_road1_1line: 97.44% одинаковых значений\n",
            "mosque_count_1000: 98.08% одинаковых значений\n"
          ]
        }
      ]
    },
    {
      "cell_type": "markdown",
      "source": [
        "Итак, мы нашли шесть неинформативных признаков. Теперь можно удалить их с помощью метода drop(), передав результирующий список в его аргументы."
      ],
      "metadata": {
        "id": "ZrC0b2Y0bryo"
      }
    },
    {
      "cell_type": "code",
      "source": [
        "information_sber_data = sber_data.drop(low_information_cols, axis=1)\n",
        "print(f'Результирующее число признаков: {information_sber_data.shape[1]}')"
      ],
      "metadata": {
        "colab": {
          "base_uri": "https://localhost:8080/"
        },
        "id": "2q-6Dc-rbs4B",
        "outputId": "700f5072-1e35-4f67-8d1e-f54854d251bb"
      },
      "execution_count": 167,
      "outputs": [
        {
          "output_type": "stream",
          "name": "stdout",
          "text": [
            "Результирующее число признаков: 55\n"
          ]
        }
      ]
    },
    {
      "cell_type": "markdown",
      "source": [],
      "metadata": {
        "id": "9M7Uo0uPb5iA"
      }
    }
  ]
}